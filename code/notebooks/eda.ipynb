{
 "cells": [
  {
   "cell_type": "code",
   "execution_count": 1,
   "metadata": {},
   "outputs": [],
   "source": [
    "import os\n",
    "\n",
    "import pandas as pd\n",
    "from pandas_profiling import ProfileReport\n",
    "import duckdb\n",
    "\n",
    "con = duckdb.connect()\n"
   ]
  },
  {
   "cell_type": "code",
   "execution_count": 2,
   "metadata": {},
   "outputs": [
    {
     "name": "stdout",
     "output_type": "stream",
     "text": [
      "new working dir: c:\\Users\\aknof\\Documents\\GT\\CSE_6250_BD4H\\Project\\repo\n"
     ]
    }
   ],
   "source": [
    "for i in range(10):\n",
    "    cwd = os.getcwd()\n",
    "    r, c = os.path.split(cwd)\n",
    "    if c == 'repo':\n",
    "        print(f'new working dir: {cwd}')\n",
    "        break\n",
    "    os.chdir(r)\n"
   ]
  },
  {
   "cell_type": "code",
   "execution_count": 27,
   "metadata": {},
   "outputs": [],
   "source": [
    "def profile(file_name, df=None, file_dir='data', sep=\",\", header='infer', names=None, index_col=True):\n",
    "    if df is None:\n",
    "        data_file = os.path.join(file_dir, file_name)\n",
    "        print('loading file...')\n",
    "        df = pd.read_csv(data_file, sep=sep, header=header, names=names, index_col=index_col)\n",
    "    title = file_name.split('.')[0]\n",
    "    print('creating report...')\n",
    "    profile = ProfileReport(df, title=title)\n",
    "    \n",
    "    pro_file = os.path.join('profiling', f'{title}.html')\n",
    "    print('writing report file...')\n",
    "    profile.to_file(pro_file)\n",
    "    print('completed!')\n",
    "\n"
   ]
  },
  {
   "cell_type": "code",
   "execution_count": 27,
   "metadata": {},
   "outputs": [
    {
     "name": "stderr",
     "output_type": "stream",
     "text": [
      "C:\\Users\\aknof\\AppData\\Local\\Temp\\ipykernel_6000\\1820255071.py:3: DtypeWarning: Columns (4,5,7,11) have mixed types. Specify dtype option on import or set low_memory=False.\n",
      "  df = pd.read_csv(data_file)\n",
      "Summarize dataset:   0%|          | 0/5 [00:00<?, ?it/s]c:\\Users\\aknof\\.conda\\envs\\bdproj310\\lib\\site-packages\\multimethod\\__init__.py:184: FutureWarning: iteritems is deprecated and will be removed in a future version. Use .items instead.\n",
      "  return self[tuple(map(self.get_type, args))](*args, **kwargs)\n",
      "Summarize dataset:  54%|█████▍    | 13/24 [00:14<00:05,  2.06it/s, Calculate auto correlation]        c:\\Users\\aknof\\.conda\\envs\\bdproj310\\lib\\site-packages\\pandas_profiling\\model\\correlations.py:67: UserWarning: There was an attempt to calculate the auto correlation, but this failed.\n",
      "To hide this warning, disable the calculation\n",
      "(using `df.profile_report(correlations={\"auto\": {\"calculate\": False}})`\n",
      "If this is problematic for your use case, please report this as an issue:\n",
      "https://github.com/ydataai/pandas-profiling/issues\n",
      "(include the error message: 'No data; `observed` has size 0.')\n",
      "  warnings.warn(\n",
      "Summarize dataset:  58%|█████▊    | 14/24 [00:23<00:04,  2.06it/s, Calculate spearman correlation]c:\\Users\\aknof\\.conda\\envs\\bdproj310\\lib\\site-packages\\multimethod\\__init__.py:184: FutureWarning: The default value of numeric_only in DataFrame.corr is deprecated. In a future version, it will default to False. Select only valid columns or specify the value of numeric_only to silence this warning.\n",
      "  return self[tuple(map(self.get_type, args))](*args, **kwargs)\n",
      "Summarize dataset:  67%|██████▋   | 16/24 [00:25<00:14,  1.78s/it, Calculate kendall correlation] c:\\Users\\aknof\\.conda\\envs\\bdproj310\\lib\\site-packages\\scipy\\stats\\_stats_py.py:5218: RuntimeWarning: overflow encountered in longlong_scalars\n",
      "  (2 * xtie * ytie) / m + x0 * y0 / (9 * m * (size - 2)))\n",
      "Summarize dataset: 100%|██████████| 53/53 [01:26<00:00,  1.62s/it, Completed]                           \n",
      "Generate report structure: 100%|██████████| 1/1 [00:11<00:00, 11.73s/it]\n",
      "Render HTML: 100%|██████████| 1/1 [00:05<00:00,  5.16s/it]\n",
      "Export report to file: 100%|██████████| 1/1 [00:00<00:00, 45.49it/s]\n"
     ]
    }
   ],
   "source": [
    "profile('CPTEVENTS.csv')"
   ]
  },
  {
   "cell_type": "code",
   "execution_count": 28,
   "metadata": {},
   "outputs": [
    {
     "name": "stderr",
     "output_type": "stream",
     "text": [
      "Summarize dataset:   0%|          | 0/5 [00:00<?, ?it/s]c:\\Users\\aknof\\.conda\\envs\\bdproj310\\lib\\site-packages\\multimethod\\__init__.py:184: FutureWarning: iteritems is deprecated and will be removed in a future version. Use .items instead.\n",
      "  return self[tuple(map(self.get_type, args))](*args, **kwargs)\n",
      "Summarize dataset:  41%|████      | 7/17 [00:05<00:06,  1.64it/s, Calculate spearman correlation]c:\\Users\\aknof\\.conda\\envs\\bdproj310\\lib\\site-packages\\multimethod\\__init__.py:184: FutureWarning: The default value of numeric_only in DataFrame.corr is deprecated. In a future version, it will default to False. Select only valid columns or specify the value of numeric_only to silence this warning.\n",
      "  return self[tuple(map(self.get_type, args))](*args, **kwargs)\n",
      "Summarize dataset: 100%|██████████| 37/37 [00:21<00:00,  1.69it/s, Completed]                     \n",
      "Generate report structure: 100%|██████████| 1/1 [00:04<00:00,  4.15s/it]\n",
      "Render HTML: 100%|██████████| 1/1 [00:01<00:00,  1.80s/it]\n",
      "Export report to file: 100%|██████████| 1/1 [00:00<00:00, 89.39it/s]\n"
     ]
    }
   ],
   "source": [
    "profile('DIAGNOSES_ICD.csv')"
   ]
  },
  {
   "cell_type": "code",
   "execution_count": 29,
   "metadata": {},
   "outputs": [
    {
     "name": "stderr",
     "output_type": "stream",
     "text": [
      "Summarize dataset:   0%|          | 0/5 [00:00<?, ?it/s]c:\\Users\\aknof\\.conda\\envs\\bdproj310\\lib\\site-packages\\multimethod\\__init__.py:184: FutureWarning: iteritems is deprecated and will be removed in a future version. Use .items instead.\n",
      "  return self[tuple(map(self.get_type, args))](*args, **kwargs)\n",
      "Summarize dataset: 100%|██████████| 44/44 [00:15<00:00,  2.82it/s, Completed]                     \n",
      "Generate report structure: 100%|██████████| 1/1 [00:04<00:00,  4.95s/it]\n",
      "Render HTML: 100%|██████████| 1/1 [00:02<00:00,  2.27s/it]\n",
      "Export report to file: 100%|██████████| 1/1 [00:00<00:00, 34.42it/s]\n"
     ]
    }
   ],
   "source": [
    "profile('PROCEDURES_ICD.csv')"
   ]
  },
  {
   "cell_type": "code",
   "execution_count": 3,
   "metadata": {},
   "outputs": [
    {
     "name": "stderr",
     "output_type": "stream",
     "text": [
      "C:\\Users\\aknof\\AppData\\Local\\Temp\\ipykernel_9752\\3997649390.py:2: DtypeWarning: Columns (4,5) have mixed types. Specify dtype option on import or set low_memory=False.\n",
      "  df_note = pd.read_csv(note_file)\n"
     ]
    },
    {
     "data": {
      "text/html": [
       "<div>\n",
       "<style scoped>\n",
       "    .dataframe tbody tr th:only-of-type {\n",
       "        vertical-align: middle;\n",
       "    }\n",
       "\n",
       "    .dataframe tbody tr th {\n",
       "        vertical-align: top;\n",
       "    }\n",
       "\n",
       "    .dataframe thead th {\n",
       "        text-align: right;\n",
       "    }\n",
       "</style>\n",
       "<table border=\"1\" class=\"dataframe\">\n",
       "  <thead>\n",
       "    <tr style=\"text-align: right;\">\n",
       "      <th></th>\n",
       "      <th>ROW_ID</th>\n",
       "      <th>SUBJECT_ID</th>\n",
       "      <th>HADM_ID</th>\n",
       "      <th>CHARTDATE</th>\n",
       "      <th>CHARTTIME</th>\n",
       "      <th>STORETIME</th>\n",
       "      <th>CATEGORY</th>\n",
       "      <th>DESCRIPTION</th>\n",
       "      <th>CGID</th>\n",
       "      <th>ISERROR</th>\n",
       "      <th>TEXT</th>\n",
       "    </tr>\n",
       "  </thead>\n",
       "  <tbody>\n",
       "    <tr>\n",
       "      <th>0</th>\n",
       "      <td>174</td>\n",
       "      <td>22532</td>\n",
       "      <td>167853.0</td>\n",
       "      <td>2151-08-04</td>\n",
       "      <td>NaN</td>\n",
       "      <td>NaN</td>\n",
       "      <td>Discharge summary</td>\n",
       "      <td>Report</td>\n",
       "      <td>NaN</td>\n",
       "      <td>NaN</td>\n",
       "      <td>Admission Date:  [**2151-7-16**]       Dischar...</td>\n",
       "    </tr>\n",
       "    <tr>\n",
       "      <th>1</th>\n",
       "      <td>175</td>\n",
       "      <td>13702</td>\n",
       "      <td>107527.0</td>\n",
       "      <td>2118-06-14</td>\n",
       "      <td>NaN</td>\n",
       "      <td>NaN</td>\n",
       "      <td>Discharge summary</td>\n",
       "      <td>Report</td>\n",
       "      <td>NaN</td>\n",
       "      <td>NaN</td>\n",
       "      <td>Admission Date:  [**2118-6-2**]       Discharg...</td>\n",
       "    </tr>\n",
       "    <tr>\n",
       "      <th>2</th>\n",
       "      <td>176</td>\n",
       "      <td>13702</td>\n",
       "      <td>167118.0</td>\n",
       "      <td>2119-05-25</td>\n",
       "      <td>NaN</td>\n",
       "      <td>NaN</td>\n",
       "      <td>Discharge summary</td>\n",
       "      <td>Report</td>\n",
       "      <td>NaN</td>\n",
       "      <td>NaN</td>\n",
       "      <td>Admission Date:  [**2119-5-4**]              D...</td>\n",
       "    </tr>\n",
       "    <tr>\n",
       "      <th>3</th>\n",
       "      <td>177</td>\n",
       "      <td>13702</td>\n",
       "      <td>196489.0</td>\n",
       "      <td>2124-08-18</td>\n",
       "      <td>NaN</td>\n",
       "      <td>NaN</td>\n",
       "      <td>Discharge summary</td>\n",
       "      <td>Report</td>\n",
       "      <td>NaN</td>\n",
       "      <td>NaN</td>\n",
       "      <td>Admission Date:  [**2124-7-21**]              ...</td>\n",
       "    </tr>\n",
       "    <tr>\n",
       "      <th>4</th>\n",
       "      <td>178</td>\n",
       "      <td>26880</td>\n",
       "      <td>135453.0</td>\n",
       "      <td>2162-03-25</td>\n",
       "      <td>NaN</td>\n",
       "      <td>NaN</td>\n",
       "      <td>Discharge summary</td>\n",
       "      <td>Report</td>\n",
       "      <td>NaN</td>\n",
       "      <td>NaN</td>\n",
       "      <td>Admission Date:  [**2162-3-3**]              D...</td>\n",
       "    </tr>\n",
       "  </tbody>\n",
       "</table>\n",
       "</div>"
      ],
      "text/plain": [
       "   ROW_ID  SUBJECT_ID   HADM_ID   CHARTDATE CHARTTIME STORETIME  \\\n",
       "0     174       22532  167853.0  2151-08-04       NaN       NaN   \n",
       "1     175       13702  107527.0  2118-06-14       NaN       NaN   \n",
       "2     176       13702  167118.0  2119-05-25       NaN       NaN   \n",
       "3     177       13702  196489.0  2124-08-18       NaN       NaN   \n",
       "4     178       26880  135453.0  2162-03-25       NaN       NaN   \n",
       "\n",
       "            CATEGORY DESCRIPTION  CGID  ISERROR  \\\n",
       "0  Discharge summary      Report   NaN      NaN   \n",
       "1  Discharge summary      Report   NaN      NaN   \n",
       "2  Discharge summary      Report   NaN      NaN   \n",
       "3  Discharge summary      Report   NaN      NaN   \n",
       "4  Discharge summary      Report   NaN      NaN   \n",
       "\n",
       "                                                TEXT  \n",
       "0  Admission Date:  [**2151-7-16**]       Dischar...  \n",
       "1  Admission Date:  [**2118-6-2**]       Discharg...  \n",
       "2  Admission Date:  [**2119-5-4**]              D...  \n",
       "3  Admission Date:  [**2124-7-21**]              ...  \n",
       "4  Admission Date:  [**2162-3-3**]              D...  "
      ]
     },
     "execution_count": 3,
     "metadata": {},
     "output_type": "execute_result"
    }
   ],
   "source": [
    "note_file = os.path.join('data', 'NOTEEVENTS.csv')\n",
    "df_note = pd.read_csv(note_file)\n",
    "df_note.head()"
   ]
  },
  {
   "cell_type": "code",
   "execution_count": 19,
   "metadata": {},
   "outputs": [
    {
     "data": {
      "text/plain": [
       "'Admission Date:  [**2151-7-16**]       Discharge Date:  [**2151-8-4**]\\n\\n\\nService:\\nADDENDUM:\\n\\nRADIOLOGIC STUDIES:  Radiologic studies also included a chest\\nCT, which confirmed cavitary lesions in the left lung apex\\nconsistent with infectious process/tuberculosis.  This also\\nmoderate-sized left pleural effusion.\\n\\nHEAD CT:  Head CT showed no intracranial hemorrhage or mass\\neffect, but old infarction consistent with past medical\\nhistory.\\n\\nABDOMINAL CT:  Abdominal CT showed lesions of\\nT10 and sacrum most likely secondary to osteoporosis. These can\\nbe followed by repeat imaging as an outpatient.\\n\\n\\n\\n                            [**First Name8 (NamePattern2) **] [**First Name4 (NamePattern1) 1775**] [**Last Name (NamePattern1) **], M.D.  [**MD Number(1) 1776**]\\n\\nDictated By:[**Hospital 1807**]\\nMEDQUIST36\\n\\nD:  [**2151-8-5**]  12:11\\nT:  [**2151-8-5**]  12:21\\nJOB#:  [**Job Number 1808**]\\n'"
      ]
     },
     "execution_count": 19,
     "metadata": {},
     "output_type": "execute_result"
    }
   ],
   "source": [
    "df_note.loc[0, 'TEXT']"
   ]
  },
  {
   "cell_type": "code",
   "execution_count": 25,
   "metadata": {},
   "outputs": [
    {
     "data": {
      "text/html": [
       "<div>\n",
       "<style scoped>\n",
       "    .dataframe tbody tr th:only-of-type {\n",
       "        vertical-align: middle;\n",
       "    }\n",
       "\n",
       "    .dataframe tbody tr th {\n",
       "        vertical-align: top;\n",
       "    }\n",
       "\n",
       "    .dataframe thead th {\n",
       "        text-align: right;\n",
       "    }\n",
       "</style>\n",
       "<table border=\"1\" class=\"dataframe\">\n",
       "  <thead>\n",
       "    <tr style=\"text-align: right;\">\n",
       "      <th></th>\n",
       "      <th>total_records</th>\n",
       "      <th>patient_count</th>\n",
       "      <th>admission_count</th>\n",
       "      <th>avg_note_len</th>\n",
       "      <th>std_dev_note_len</th>\n",
       "    </tr>\n",
       "  </thead>\n",
       "  <tbody>\n",
       "    <tr>\n",
       "      <th>0</th>\n",
       "      <td>2083180</td>\n",
       "      <td>46146</td>\n",
       "      <td>58361</td>\n",
       "      <td>1826.011574</td>\n",
       "      <td>2510.938902</td>\n",
       "    </tr>\n",
       "  </tbody>\n",
       "</table>\n",
       "</div>"
      ],
      "text/plain": [
       "   total_records  patient_count  admission_count  avg_note_len  \\\n",
       "0        2083180          46146            58361   1826.011574   \n",
       "\n",
       "   std_dev_note_len  \n",
       "0       2510.938902  "
      ]
     },
     "execution_count": 25,
     "metadata": {},
     "output_type": "execute_result"
    }
   ],
   "source": [
    "con.execute(\"\"\"\n",
    "select count(*) total_records\n",
    ",count(distinct subject_id) patient_count\n",
    ",count(distinct hadm_id) admission_count\n",
    ",avg(len(text)) avg_note_len\n",
    ",stddev(len(text)) std_dev_note_len\n",
    "from df_note\n",
    "\"\"\").df().head()"
   ]
  },
  {
   "cell_type": "code",
   "execution_count": 8,
   "metadata": {},
   "outputs": [
    {
     "data": {
      "text/html": [
       "<div>\n",
       "<style scoped>\n",
       "    .dataframe tbody tr th:only-of-type {\n",
       "        vertical-align: middle;\n",
       "    }\n",
       "\n",
       "    .dataframe tbody tr th {\n",
       "        vertical-align: top;\n",
       "    }\n",
       "\n",
       "    .dataframe thead th {\n",
       "        text-align: right;\n",
       "    }\n",
       "</style>\n",
       "<table border=\"1\" class=\"dataframe\">\n",
       "  <thead>\n",
       "    <tr style=\"text-align: right;\">\n",
       "      <th></th>\n",
       "      <th>avg_pat_rec</th>\n",
       "      <th>std_dev_pat_rec</th>\n",
       "      <th>avg_pat_adm</th>\n",
       "      <th>std_dev_pat_adm</th>\n",
       "      <th>std_dev_pat_note</th>\n",
       "      <th>avg_pat_note</th>\n",
       "      <th>avg_min_pat_note</th>\n",
       "      <th>std_dev_min_pat_note</th>\n",
       "      <th>avg_max_pat_note</th>\n",
       "      <th>std_dev_max_pat_note</th>\n",
       "    </tr>\n",
       "  </thead>\n",
       "  <tbody>\n",
       "    <tr>\n",
       "      <th>0</th>\n",
       "      <td>45.143241</td>\n",
       "      <td>77.89006</td>\n",
       "      <td>1.264703</td>\n",
       "      <td>0.892288</td>\n",
       "      <td>988.949561</td>\n",
       "      <td>1860.636048</td>\n",
       "      <td>183.288844</td>\n",
       "      <td>441.5194</td>\n",
       "      <td>9792.591384</td>\n",
       "      <td>5818.693791</td>\n",
       "    </tr>\n",
       "  </tbody>\n",
       "</table>\n",
       "</div>"
      ],
      "text/plain": [
       "   avg_pat_rec  std_dev_pat_rec  avg_pat_adm  std_dev_pat_adm  \\\n",
       "0    45.143241         77.89006     1.264703         0.892288   \n",
       "\n",
       "   std_dev_pat_note  avg_pat_note  avg_min_pat_note  std_dev_min_pat_note  \\\n",
       "0        988.949561   1860.636048        183.288844              441.5194   \n",
       "\n",
       "   avg_max_pat_note  std_dev_max_pat_note  \n",
       "0       9792.591384           5818.693791  "
      ]
     },
     "execution_count": 8,
     "metadata": {},
     "output_type": "execute_result"
    }
   ],
   "source": [
    "con.execute(\"\"\"\n",
    "with patient as (\n",
    "select count(*) total_records\n",
    ",count(distinct hadm_id) admission_count\n",
    ",avg(len(text)) avg_note_len\n",
    ",min(len(text)) min_note_len\n",
    ",max(len(text)) max_note_len\n",
    "from df_note\n",
    "group by subject_id\n",
    ")\n",
    "select avg(total_records) avg_pat_rec\n",
    ",stddev(total_records) std_dev_pat_rec\n",
    ",avg(admission_count) avg_pat_adm\n",
    ",stddev(admission_count) as std_dev_pat_adm\n",
    ",stddev(avg_note_len) as std_dev_pat_note\n",
    ",avg(avg_note_len) as avg_pat_note\n",
    ",avg(min_note_len) as avg_min_pat_note\n",
    ",stddev(min_note_len) as std_dev_min_pat_note\n",
    ",avg(max_note_len) as avg_max_pat_note\n",
    ",stddev(max_note_len) as std_dev_max_pat_note\n",
    "from patient\n",
    "\"\"\").df().head()"
   ]
  }
 ],
 "metadata": {
  "kernelspec": {
   "display_name": "Python 3.10.6 ('bdproj310')",
   "language": "python",
   "name": "python3"
  },
  "language_info": {
   "codemirror_mode": {
    "name": "ipython",
    "version": 3
   },
   "file_extension": ".py",
   "mimetype": "text/x-python",
   "name": "python",
   "nbconvert_exporter": "python",
   "pygments_lexer": "ipython3",
   "version": "3.10.6"
  },
  "orig_nbformat": 4,
  "vscode": {
   "interpreter": {
    "hash": "5e0ae4837df7a7ea9078b7c2474737fb90767256bed16c5310b44bf5f06e513c"
   }
  }
 },
 "nbformat": 4,
 "nbformat_minor": 2
}
