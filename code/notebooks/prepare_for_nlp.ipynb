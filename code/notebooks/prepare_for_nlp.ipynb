{
 "cells": [
  {
   "cell_type": "code",
   "execution_count": 8,
   "metadata": {},
   "outputs": [],
   "source": [
    "import os, json\n",
    "\n",
    "import pandas as pd\n",
    "import duckdb\n",
    "import swifter"
   ]
  },
  {
   "cell_type": "code",
   "execution_count": null,
   "metadata": {},
   "outputs": [],
   "source": [
    "MAX_TEXT_LEN_ALLOWED = 10000"
   ]
  },
  {
   "cell_type": "code",
   "execution_count": 2,
   "metadata": {},
   "outputs": [
    {
     "name": "stdout",
     "output_type": "stream",
     "text": [
      "new working dir: c:\\Users\\aknof\\Documents\\GT\\CSE_6250_BD4H\\Project\\repo\n"
     ]
    }
   ],
   "source": [
    "for i in range(10):\n",
    "    cwd = os.getcwd()\n",
    "    r, c = os.path.split(cwd)\n",
    "    if c == 'repo':\n",
    "        print(f'new working dir: {cwd}')\n",
    "        break\n",
    "    os.chdir(r)"
   ]
  },
  {
   "cell_type": "code",
   "execution_count": 3,
   "metadata": {},
   "outputs": [
    {
     "name": "stderr",
     "output_type": "stream",
     "text": [
      "C:\\Users\\aknof\\AppData\\Local\\Temp\\ipykernel_5116\\876603029.py:2: DtypeWarning: Columns (4,5) have mixed types. Specify dtype option on import or set low_memory=False.\n",
      "  df = pd.read_csv(data_file)\n"
     ]
    },
    {
     "data": {
      "text/html": [
       "<div>\n",
       "<style scoped>\n",
       "    .dataframe tbody tr th:only-of-type {\n",
       "        vertical-align: middle;\n",
       "    }\n",
       "\n",
       "    .dataframe tbody tr th {\n",
       "        vertical-align: top;\n",
       "    }\n",
       "\n",
       "    .dataframe thead th {\n",
       "        text-align: right;\n",
       "    }\n",
       "</style>\n",
       "<table border=\"1\" class=\"dataframe\">\n",
       "  <thead>\n",
       "    <tr style=\"text-align: right;\">\n",
       "      <th></th>\n",
       "      <th>ROW_ID</th>\n",
       "      <th>SUBJECT_ID</th>\n",
       "      <th>HADM_ID</th>\n",
       "      <th>CHARTDATE</th>\n",
       "      <th>CHARTTIME</th>\n",
       "      <th>STORETIME</th>\n",
       "      <th>CATEGORY</th>\n",
       "      <th>DESCRIPTION</th>\n",
       "      <th>CGID</th>\n",
       "      <th>ISERROR</th>\n",
       "      <th>TEXT</th>\n",
       "    </tr>\n",
       "  </thead>\n",
       "  <tbody>\n",
       "    <tr>\n",
       "      <th>0</th>\n",
       "      <td>174</td>\n",
       "      <td>22532</td>\n",
       "      <td>167853.0</td>\n",
       "      <td>2151-08-04</td>\n",
       "      <td>NaN</td>\n",
       "      <td>NaN</td>\n",
       "      <td>Discharge summary</td>\n",
       "      <td>Report</td>\n",
       "      <td>NaN</td>\n",
       "      <td>NaN</td>\n",
       "      <td>Admission Date:  [**2151-7-16**]       Dischar...</td>\n",
       "    </tr>\n",
       "    <tr>\n",
       "      <th>1</th>\n",
       "      <td>175</td>\n",
       "      <td>13702</td>\n",
       "      <td>107527.0</td>\n",
       "      <td>2118-06-14</td>\n",
       "      <td>NaN</td>\n",
       "      <td>NaN</td>\n",
       "      <td>Discharge summary</td>\n",
       "      <td>Report</td>\n",
       "      <td>NaN</td>\n",
       "      <td>NaN</td>\n",
       "      <td>Admission Date:  [**2118-6-2**]       Discharg...</td>\n",
       "    </tr>\n",
       "    <tr>\n",
       "      <th>2</th>\n",
       "      <td>176</td>\n",
       "      <td>13702</td>\n",
       "      <td>167118.0</td>\n",
       "      <td>2119-05-25</td>\n",
       "      <td>NaN</td>\n",
       "      <td>NaN</td>\n",
       "      <td>Discharge summary</td>\n",
       "      <td>Report</td>\n",
       "      <td>NaN</td>\n",
       "      <td>NaN</td>\n",
       "      <td>Admission Date:  [**2119-5-4**]              D...</td>\n",
       "    </tr>\n",
       "    <tr>\n",
       "      <th>3</th>\n",
       "      <td>177</td>\n",
       "      <td>13702</td>\n",
       "      <td>196489.0</td>\n",
       "      <td>2124-08-18</td>\n",
       "      <td>NaN</td>\n",
       "      <td>NaN</td>\n",
       "      <td>Discharge summary</td>\n",
       "      <td>Report</td>\n",
       "      <td>NaN</td>\n",
       "      <td>NaN</td>\n",
       "      <td>Admission Date:  [**2124-7-21**]              ...</td>\n",
       "    </tr>\n",
       "    <tr>\n",
       "      <th>4</th>\n",
       "      <td>178</td>\n",
       "      <td>26880</td>\n",
       "      <td>135453.0</td>\n",
       "      <td>2162-03-25</td>\n",
       "      <td>NaN</td>\n",
       "      <td>NaN</td>\n",
       "      <td>Discharge summary</td>\n",
       "      <td>Report</td>\n",
       "      <td>NaN</td>\n",
       "      <td>NaN</td>\n",
       "      <td>Admission Date:  [**2162-3-3**]              D...</td>\n",
       "    </tr>\n",
       "  </tbody>\n",
       "</table>\n",
       "</div>"
      ],
      "text/plain": [
       "   ROW_ID  SUBJECT_ID   HADM_ID   CHARTDATE CHARTTIME STORETIME  \\\n",
       "0     174       22532  167853.0  2151-08-04       NaN       NaN   \n",
       "1     175       13702  107527.0  2118-06-14       NaN       NaN   \n",
       "2     176       13702  167118.0  2119-05-25       NaN       NaN   \n",
       "3     177       13702  196489.0  2124-08-18       NaN       NaN   \n",
       "4     178       26880  135453.0  2162-03-25       NaN       NaN   \n",
       "\n",
       "            CATEGORY DESCRIPTION  CGID  ISERROR  \\\n",
       "0  Discharge summary      Report   NaN      NaN   \n",
       "1  Discharge summary      Report   NaN      NaN   \n",
       "2  Discharge summary      Report   NaN      NaN   \n",
       "3  Discharge summary      Report   NaN      NaN   \n",
       "4  Discharge summary      Report   NaN      NaN   \n",
       "\n",
       "                                                TEXT  \n",
       "0  Admission Date:  [**2151-7-16**]       Dischar...  \n",
       "1  Admission Date:  [**2118-6-2**]       Discharg...  \n",
       "2  Admission Date:  [**2119-5-4**]              D...  \n",
       "3  Admission Date:  [**2124-7-21**]              ...  \n",
       "4  Admission Date:  [**2162-3-3**]              D...  "
      ]
     },
     "execution_count": 3,
     "metadata": {},
     "output_type": "execute_result"
    }
   ],
   "source": [
    "data_file = os.path.join('data', 'NOTEEVENTS.csv')\n",
    "df = pd.read_csv(data_file)\n",
    "df.head()"
   ]
  },
  {
   "cell_type": "code",
   "execution_count": 4,
   "metadata": {},
   "outputs": [],
   "source": [
    "con = duckdb.connect()"
   ]
  },
  {
   "cell_type": "code",
   "execution_count": 5,
   "metadata": {},
   "outputs": [
    {
     "data": {
      "text/html": [
       "<div>\n",
       "<style scoped>\n",
       "    .dataframe tbody tr th:only-of-type {\n",
       "        vertical-align: middle;\n",
       "    }\n",
       "\n",
       "    .dataframe tbody tr th {\n",
       "        vertical-align: top;\n",
       "    }\n",
       "\n",
       "    .dataframe thead th {\n",
       "        text-align: right;\n",
       "    }\n",
       "</style>\n",
       "<table border=\"1\" class=\"dataframe\">\n",
       "  <thead>\n",
       "    <tr style=\"text-align: right;\">\n",
       "      <th></th>\n",
       "      <th>ROW_ID</th>\n",
       "      <th>SUBJECT_ID</th>\n",
       "      <th>chunk</th>\n",
       "      <th>lt</th>\n",
       "      <th>TEXT</th>\n",
       "    </tr>\n",
       "  </thead>\n",
       "  <tbody>\n",
       "    <tr>\n",
       "      <th>0</th>\n",
       "      <td>53810</td>\n",
       "      <td>93321</td>\n",
       "      <td>0</td>\n",
       "      <td>55728</td>\n",
       "      <td>Admission Date:  [**2128-3-24**]              ...</td>\n",
       "    </tr>\n",
       "    <tr>\n",
       "      <th>1</th>\n",
       "      <td>37847</td>\n",
       "      <td>42842</td>\n",
       "      <td>0</td>\n",
       "      <td>53330</td>\n",
       "      <td>Admission Date:  [**2199-10-2**]              ...</td>\n",
       "    </tr>\n",
       "    <tr>\n",
       "      <th>2</th>\n",
       "      <td>23428</td>\n",
       "      <td>43126</td>\n",
       "      <td>0</td>\n",
       "      <td>53169</td>\n",
       "      <td>Admission Date:  [**2124-3-1**]              D...</td>\n",
       "    </tr>\n",
       "    <tr>\n",
       "      <th>3</th>\n",
       "      <td>25215</td>\n",
       "      <td>5962</td>\n",
       "      <td>0</td>\n",
       "      <td>52508</td>\n",
       "      <td>Admission Date:  [**2195-9-24**]              ...</td>\n",
       "    </tr>\n",
       "    <tr>\n",
       "      <th>4</th>\n",
       "      <td>1484</td>\n",
       "      <td>66807</td>\n",
       "      <td>0</td>\n",
       "      <td>50663</td>\n",
       "      <td>Admission Date:  [**2199-5-5**]              D...</td>\n",
       "    </tr>\n",
       "  </tbody>\n",
       "</table>\n",
       "</div>"
      ],
      "text/plain": [
       "   ROW_ID  SUBJECT_ID  chunk     lt  \\\n",
       "0   53810       93321      0  55728   \n",
       "1   37847       42842      0  53330   \n",
       "2   23428       43126      0  53169   \n",
       "3   25215        5962      0  52508   \n",
       "4    1484       66807      0  50663   \n",
       "\n",
       "                                                TEXT  \n",
       "0  Admission Date:  [**2128-3-24**]              ...  \n",
       "1  Admission Date:  [**2199-10-2**]              ...  \n",
       "2  Admission Date:  [**2124-3-1**]              D...  \n",
       "3  Admission Date:  [**2195-9-24**]              ...  \n",
       "4  Admission Date:  [**2199-5-5**]              D...  "
      ]
     },
     "execution_count": 5,
     "metadata": {},
     "output_type": "execute_result"
    }
   ],
   "source": [
    "df_input = con.execute(\"\"\"\n",
    "select ROW_ID \n",
    ",SUBJECT_ID\n",
    ",0 as chunk\n",
    ",len(TEXT) lt\n",
    ",TEXT\n",
    "from df\n",
    "order by lt desc\n",
    "\"\"\").df()\n",
    "df_input.head()"
   ]
  },
  {
   "cell_type": "code",
   "execution_count": 8,
   "metadata": {},
   "outputs": [
    {
     "data": {
      "text/html": [
       "<div>\n",
       "<style scoped>\n",
       "    .dataframe tbody tr th:only-of-type {\n",
       "        vertical-align: middle;\n",
       "    }\n",
       "\n",
       "    .dataframe tbody tr th {\n",
       "        vertical-align: top;\n",
       "    }\n",
       "\n",
       "    .dataframe thead th {\n",
       "        text-align: right;\n",
       "    }\n",
       "</style>\n",
       "<table border=\"1\" class=\"dataframe\">\n",
       "  <thead>\n",
       "    <tr style=\"text-align: right;\">\n",
       "      <th></th>\n",
       "      <th>count_star()</th>\n",
       "    </tr>\n",
       "  </thead>\n",
       "  <tbody>\n",
       "    <tr>\n",
       "      <th>0</th>\n",
       "      <td>40006</td>\n",
       "    </tr>\n",
       "  </tbody>\n",
       "</table>\n",
       "</div>"
      ],
      "text/plain": [
       "   count_star()\n",
       "0         40006"
      ]
     },
     "execution_count": 8,
     "metadata": {},
     "output_type": "execute_result"
    }
   ],
   "source": [
    "con.execute(\"\"\"\n",
    "select count(*)\n",
    "from df_input\n",
    "where lt > 10000\n",
    "\"\"\").df()"
   ]
  },
  {
   "cell_type": "code",
   "execution_count": 6,
   "metadata": {},
   "outputs": [],
   "source": [
    "sql_chunk = f\"\"\"\n",
    "{{union}}\n",
    "select row_id\n",
    ", subject_id\n",
    ", {{chunk_num}} as chunk_num\n",
    ", substring(text, chunk_window * {{chunk_num}}, {MAX_TEXT_LEN_ALLOWED}) as chunk_text\n",
    "from par\n",
    "where num_ch > {{chunk_num}}\n",
    "\"\"\""
   ]
  },
  {
   "cell_type": "code",
   "execution_count": 29,
   "metadata": {},
   "outputs": [
    {
     "data": {
      "text/html": [
       "<div>\n",
       "<style scoped>\n",
       "    .dataframe tbody tr th:only-of-type {\n",
       "        vertical-align: middle;\n",
       "    }\n",
       "\n",
       "    .dataframe tbody tr th {\n",
       "        vertical-align: top;\n",
       "    }\n",
       "\n",
       "    .dataframe thead th {\n",
       "        text-align: right;\n",
       "    }\n",
       "</style>\n",
       "<table border=\"1\" class=\"dataframe\">\n",
       "  <thead>\n",
       "    <tr style=\"text-align: right;\">\n",
       "      <th></th>\n",
       "      <th>ROW_ID</th>\n",
       "      <th>SUBJECT_ID</th>\n",
       "      <th>lt</th>\n",
       "      <th>num_ch</th>\n",
       "      <th>chunk_window</th>\n",
       "      <th>TEXT</th>\n",
       "    </tr>\n",
       "  </thead>\n",
       "  <tbody>\n",
       "    <tr>\n",
       "      <th>0</th>\n",
       "      <td>53810</td>\n",
       "      <td>93321</td>\n",
       "      <td>55728</td>\n",
       "      <td>6</td>\n",
       "      <td>9288</td>\n",
       "      <td>Admission Date:  [**2128-3-24**]              ...</td>\n",
       "    </tr>\n",
       "    <tr>\n",
       "      <th>1</th>\n",
       "      <td>37847</td>\n",
       "      <td>42842</td>\n",
       "      <td>53330</td>\n",
       "      <td>6</td>\n",
       "      <td>8888</td>\n",
       "      <td>Admission Date:  [**2199-10-2**]              ...</td>\n",
       "    </tr>\n",
       "    <tr>\n",
       "      <th>2</th>\n",
       "      <td>23428</td>\n",
       "      <td>43126</td>\n",
       "      <td>53169</td>\n",
       "      <td>6</td>\n",
       "      <td>8861</td>\n",
       "      <td>Admission Date:  [**2124-3-1**]              D...</td>\n",
       "    </tr>\n",
       "    <tr>\n",
       "      <th>3</th>\n",
       "      <td>25215</td>\n",
       "      <td>5962</td>\n",
       "      <td>52508</td>\n",
       "      <td>6</td>\n",
       "      <td>8751</td>\n",
       "      <td>Admission Date:  [**2195-9-24**]              ...</td>\n",
       "    </tr>\n",
       "    <tr>\n",
       "      <th>4</th>\n",
       "      <td>1484</td>\n",
       "      <td>66807</td>\n",
       "      <td>50663</td>\n",
       "      <td>6</td>\n",
       "      <td>8443</td>\n",
       "      <td>Admission Date:  [**2199-5-5**]              D...</td>\n",
       "    </tr>\n",
       "    <tr>\n",
       "      <th>5</th>\n",
       "      <td>34099</td>\n",
       "      <td>28941</td>\n",
       "      <td>50035</td>\n",
       "      <td>6</td>\n",
       "      <td>8339</td>\n",
       "      <td>Admission Date:  [**2144-7-16**]              ...</td>\n",
       "    </tr>\n",
       "    <tr>\n",
       "      <th>6</th>\n",
       "      <td>48774</td>\n",
       "      <td>51821</td>\n",
       "      <td>49417</td>\n",
       "      <td>5</td>\n",
       "      <td>9883</td>\n",
       "      <td>Admission Date:  [**2160-10-9**]              ...</td>\n",
       "    </tr>\n",
       "    <tr>\n",
       "      <th>7</th>\n",
       "      <td>42609</td>\n",
       "      <td>45317</td>\n",
       "      <td>47791</td>\n",
       "      <td>5</td>\n",
       "      <td>9558</td>\n",
       "      <td>Admission Date:  [**2118-4-18**]              ...</td>\n",
       "    </tr>\n",
       "    <tr>\n",
       "      <th>8</th>\n",
       "      <td>20493</td>\n",
       "      <td>55186</td>\n",
       "      <td>47181</td>\n",
       "      <td>5</td>\n",
       "      <td>9436</td>\n",
       "      <td>Admission Date:  [**2121-4-27**]              ...</td>\n",
       "    </tr>\n",
       "    <tr>\n",
       "      <th>9</th>\n",
       "      <td>19420</td>\n",
       "      <td>91074</td>\n",
       "      <td>46786</td>\n",
       "      <td>5</td>\n",
       "      <td>9357</td>\n",
       "      <td>Admission Date:  [**2192-2-22**]              ...</td>\n",
       "    </tr>\n",
       "  </tbody>\n",
       "</table>\n",
       "</div>"
      ],
      "text/plain": [
       "   ROW_ID  SUBJECT_ID     lt  num_ch  chunk_window  \\\n",
       "0   53810       93321  55728       6          9288   \n",
       "1   37847       42842  53330       6          8888   \n",
       "2   23428       43126  53169       6          8861   \n",
       "3   25215        5962  52508       6          8751   \n",
       "4    1484       66807  50663       6          8443   \n",
       "5   34099       28941  50035       6          8339   \n",
       "6   48774       51821  49417       5          9883   \n",
       "7   42609       45317  47791       5          9558   \n",
       "8   20493       55186  47181       5          9436   \n",
       "9   19420       91074  46786       5          9357   \n",
       "\n",
       "                                                TEXT  \n",
       "0  Admission Date:  [**2128-3-24**]              ...  \n",
       "1  Admission Date:  [**2199-10-2**]              ...  \n",
       "2  Admission Date:  [**2124-3-1**]              D...  \n",
       "3  Admission Date:  [**2195-9-24**]              ...  \n",
       "4  Admission Date:  [**2199-5-5**]              D...  \n",
       "5  Admission Date:  [**2144-7-16**]              ...  \n",
       "6  Admission Date:  [**2160-10-9**]              ...  \n",
       "7  Admission Date:  [**2118-4-18**]              ...  \n",
       "8  Admission Date:  [**2121-4-27**]              ...  \n",
       "9  Admission Date:  [**2192-2-22**]              ...  "
      ]
     },
     "execution_count": 29,
     "metadata": {},
     "output_type": "execute_result"
    }
   ],
   "source": [
    "con.execute(f\"\"\"\n",
    "select row_id\n",
    ", subject_id\n",
    ", lt\n",
    ", cast(lt / {MAX_TEXT_LEN_ALLOWED} as int) + 1 num_ch\n",
    ", lt / cast(cast(lt / {MAX_TEXT_LEN_ALLOWED} as int) + 1 as int) chunk_window\n",
    ", text\n",
    "from df_input\n",
    "order by lt desc\n",
    "limit 10\n",
    "\"\"\").df()"
   ]
  },
  {
   "cell_type": "code",
   "execution_count": 7,
   "metadata": {},
   "outputs": [
    {
     "data": {
      "text/html": [
       "<div>\n",
       "<style scoped>\n",
       "    .dataframe tbody tr th:only-of-type {\n",
       "        vertical-align: middle;\n",
       "    }\n",
       "\n",
       "    .dataframe tbody tr th {\n",
       "        vertical-align: top;\n",
       "    }\n",
       "\n",
       "    .dataframe thead th {\n",
       "        text-align: right;\n",
       "    }\n",
       "</style>\n",
       "<table border=\"1\" class=\"dataframe\">\n",
       "  <thead>\n",
       "    <tr style=\"text-align: right;\">\n",
       "      <th></th>\n",
       "      <th>ROW_ID</th>\n",
       "      <th>SUBJECT_ID</th>\n",
       "      <th>chunk_num</th>\n",
       "      <th>chunk_text</th>\n",
       "    </tr>\n",
       "  </thead>\n",
       "  <tbody>\n",
       "    <tr>\n",
       "      <th>0</th>\n",
       "      <td>53810</td>\n",
       "      <td>93321</td>\n",
       "      <td>0</td>\n",
       "      <td>Admission Date:  [**2128-3-24**]              ...</td>\n",
       "    </tr>\n",
       "    <tr>\n",
       "      <th>1</th>\n",
       "      <td>37847</td>\n",
       "      <td>42842</td>\n",
       "      <td>0</td>\n",
       "      <td>Admission Date:  [**2199-10-2**]              ...</td>\n",
       "    </tr>\n",
       "    <tr>\n",
       "      <th>2</th>\n",
       "      <td>23428</td>\n",
       "      <td>43126</td>\n",
       "      <td>0</td>\n",
       "      <td>Admission Date:  [**2124-3-1**]              D...</td>\n",
       "    </tr>\n",
       "    <tr>\n",
       "      <th>3</th>\n",
       "      <td>25215</td>\n",
       "      <td>5962</td>\n",
       "      <td>0</td>\n",
       "      <td>Admission Date:  [**2195-9-24**]              ...</td>\n",
       "    </tr>\n",
       "    <tr>\n",
       "      <th>4</th>\n",
       "      <td>1484</td>\n",
       "      <td>66807</td>\n",
       "      <td>0</td>\n",
       "      <td>Admission Date:  [**2199-5-5**]              D...</td>\n",
       "    </tr>\n",
       "  </tbody>\n",
       "</table>\n",
       "</div>"
      ],
      "text/plain": [
       "   ROW_ID  SUBJECT_ID  chunk_num  \\\n",
       "0   53810       93321          0   \n",
       "1   37847       42842          0   \n",
       "2   23428       43126          0   \n",
       "3   25215        5962          0   \n",
       "4    1484       66807          0   \n",
       "\n",
       "                                          chunk_text  \n",
       "0  Admission Date:  [**2128-3-24**]              ...  \n",
       "1  Admission Date:  [**2199-10-2**]              ...  \n",
       "2  Admission Date:  [**2124-3-1**]              D...  \n",
       "3  Admission Date:  [**2195-9-24**]              ...  \n",
       "4  Admission Date:  [**2199-5-5**]              D...  "
      ]
     },
     "execution_count": 7,
     "metadata": {},
     "output_type": "execute_result"
    }
   ],
   "source": [
    "df_split = con.execute(f\"\"\"\n",
    "with par as (\n",
    "select row_id\n",
    ", subject_id\n",
    ", lt\n",
    ", cast(lt / 10000 as int) + 1 num_ch\n",
    ", lt / cast(cast(lt / {MAX_TEXT_LEN_ALLOWED} as int) + 1 as int) chunk_window\n",
    ", text\n",
    "from df_input\n",
    ")\n",
    "{sql_chunk.format(union='', chunk_num=0)}\n",
    "{sql_chunk.format(union='union all', chunk_num=1)}\n",
    "{sql_chunk.format(union='union all', chunk_num=2)}\n",
    "{sql_chunk.format(union='union all', chunk_num=3)}\n",
    "{sql_chunk.format(union='union all', chunk_num=4)}\n",
    "{sql_chunk.format(union='union all', chunk_num=5)}\n",
    "{sql_chunk.format(union='union all', chunk_num=6)}\n",
    "\n",
    "\"\"\").df()\n",
    "df_split.head()"
   ]
  },
  {
   "cell_type": "code",
   "execution_count": 9,
   "metadata": {},
   "outputs": [
    {
     "data": {
      "text/plain": [
       "ROW_ID        2126293\n",
       "SUBJECT_ID    2126293\n",
       "chunk_num     2126293\n",
       "chunk_text    2126293\n",
       "dtype: int64"
      ]
     },
     "execution_count": 9,
     "metadata": {},
     "output_type": "execute_result"
    }
   ],
   "source": [
    "df_split.count()"
   ]
  },
  {
   "cell_type": "code",
   "execution_count": 37,
   "metadata": {},
   "outputs": [
    {
     "data": {
      "text/html": [
       "<div>\n",
       "<style scoped>\n",
       "    .dataframe tbody tr th:only-of-type {\n",
       "        vertical-align: middle;\n",
       "    }\n",
       "\n",
       "    .dataframe tbody tr th {\n",
       "        vertical-align: top;\n",
       "    }\n",
       "\n",
       "    .dataframe thead th {\n",
       "        text-align: right;\n",
       "    }\n",
       "</style>\n",
       "<table border=\"1\" class=\"dataframe\">\n",
       "  <thead>\n",
       "    <tr style=\"text-align: right;\">\n",
       "      <th></th>\n",
       "      <th>ml</th>\n",
       "    </tr>\n",
       "  </thead>\n",
       "  <tbody>\n",
       "    <tr>\n",
       "      <th>0</th>\n",
       "      <td>10000</td>\n",
       "    </tr>\n",
       "  </tbody>\n",
       "</table>\n",
       "</div>"
      ],
      "text/plain": [
       "      ml\n",
       "0  10000"
      ]
     },
     "execution_count": 37,
     "metadata": {},
     "output_type": "execute_result"
    }
   ],
   "source": [
    "con.execute(f\"\"\"\n",
    "select max(len(chunk_text)) ml from df_split\n",
    "\"\"\").df()"
   ]
  },
  {
   "cell_type": "code",
   "execution_count": 40,
   "metadata": {},
   "outputs": [
    {
     "data": {
      "text/html": [
       "<div>\n",
       "<style scoped>\n",
       "    .dataframe tbody tr th:only-of-type {\n",
       "        vertical-align: middle;\n",
       "    }\n",
       "\n",
       "    .dataframe tbody tr th {\n",
       "        vertical-align: top;\n",
       "    }\n",
       "\n",
       "    .dataframe thead th {\n",
       "        text-align: right;\n",
       "    }\n",
       "</style>\n",
       "<table border=\"1\" class=\"dataframe\">\n",
       "  <thead>\n",
       "    <tr style=\"text-align: right;\">\n",
       "      <th></th>\n",
       "      <th>chunk_num</th>\n",
       "      <th>cnt</th>\n",
       "      <th>avg_len</th>\n",
       "      <th>max_len</th>\n",
       "    </tr>\n",
       "  </thead>\n",
       "  <tbody>\n",
       "    <tr>\n",
       "      <th>0</th>\n",
       "      <td>0</td>\n",
       "      <td>2083180</td>\n",
       "      <td>1756.202070</td>\n",
       "      <td>9999</td>\n",
       "    </tr>\n",
       "    <tr>\n",
       "      <th>1</th>\n",
       "      <td>1</td>\n",
       "      <td>40016</td>\n",
       "      <td>6664.603084</td>\n",
       "      <td>10000</td>\n",
       "    </tr>\n",
       "    <tr>\n",
       "      <th>2</th>\n",
       "      <td>2</td>\n",
       "      <td>2747</td>\n",
       "      <td>7967.333819</td>\n",
       "      <td>10000</td>\n",
       "    </tr>\n",
       "    <tr>\n",
       "      <th>3</th>\n",
       "      <td>3</td>\n",
       "      <td>297</td>\n",
       "      <td>8637.542088</td>\n",
       "      <td>10000</td>\n",
       "    </tr>\n",
       "    <tr>\n",
       "      <th>4</th>\n",
       "      <td>4</td>\n",
       "      <td>47</td>\n",
       "      <td>8793.234043</td>\n",
       "      <td>10000</td>\n",
       "    </tr>\n",
       "    <tr>\n",
       "      <th>5</th>\n",
       "      <td>5</td>\n",
       "      <td>6</td>\n",
       "      <td>8764.833333</td>\n",
       "      <td>9289</td>\n",
       "    </tr>\n",
       "  </tbody>\n",
       "</table>\n",
       "</div>"
      ],
      "text/plain": [
       "   chunk_num      cnt      avg_len  max_len\n",
       "0          0  2083180  1756.202070     9999\n",
       "1          1    40016  6664.603084    10000\n",
       "2          2     2747  7967.333819    10000\n",
       "3          3      297  8637.542088    10000\n",
       "4          4       47  8793.234043    10000\n",
       "5          5        6  8764.833333     9289"
      ]
     },
     "execution_count": 40,
     "metadata": {},
     "output_type": "execute_result"
    }
   ],
   "source": [
    "con.execute(f\"\"\"\n",
    "select chunk_num\n",
    ", count(*) cnt\n",
    ", avg(len(chunk_text)) avg_len\n",
    ", max(len(chunk_text)) max_len\n",
    "from df_split\n",
    "group by chunk_num\n",
    "order by 1\n",
    "\"\"\").df()"
   ]
  },
  {
   "cell_type": "code",
   "execution_count": 12,
   "metadata": {},
   "outputs": [
    {
     "data": {
      "text/plain": [
       "{'ROW_ID': 53810,\n",
       " 'SUBJECT_ID': 93321,\n",
       " 'chunk_num': 0,\n",
       " 'chunk_text': 'Admission Date:  [**2128-3-24**]              Discharge Date:   [**2128-10-17**]\\n\\nDate of Birth:  [**2066-4-14**]             Sex:   M\\n\\nService: MEDICINE\\n\\nAllergies:\\nNo Known Allergies / Adverse Drug Reactions\\n\\nAttending:[**First Name3 (LF) 2712**]\\nChief Complaint:\\nFatigue/Shortness of Breath\\n\\nMajor Surgical or Invasive Procedure:\\nRight PICC placement [**2128-3-25**]\\nCentral line placement [**2128-3-25**]\\nBone marrow biopsy [**2128-3-25**]\\nLeft subclavian central line placement [**2128-3-26**]\\nBone marrow biopsy [**2128-4-8**]\\nLeft PICC placement [**2128-4-10**]\\nLeft internal jugular central line placement [**2128-4-20**]\\nBone marrow biopsy [**2128-5-7**]\\nBone marrow biopsy [**2128-5-27**]\\nBone marrow biopsy [**2128-6-9**]\\nBronchoscopy [**2128-6-10**]\\nBone Marrow Biopsy on [**2128-6-29**]\\nPercutaneous cholecystostomy tube placement [**2128-8-9**]\\nPICC placement on [**2128-8-14**]\\n\\n\\nHistory of Present Illness:\\nMr. [**Known lastname 74075**] is a 61 yo M with PMH of hyperlipidemia presenting\\nwith 1-2 months of progressive fatigue and DOE. Patient reported\\nworsening fatigue/DOE in last few months to the point where it\\nwas interfering with his ADLs. Pt was feeling lightheaded and\\npalpitations when standing up. He presented to [**Hospital3 7569**]\\non [**3-24**] and found to have HCT of 10% and WBC of 99,000. Given 1L\\nNS and 1 unit pRBCs and transferred to [**Hospital1 18**] for further\\nevaluation and management.\\n\\nPatient denied fevers or night sweats but does endorse\\nintermittently feeling hot/cold.  Also endorsed anorexia and\\npoor PO intake for one week.  Complained of 50 lb weight loss in\\nabout 6 months.  He had nausea and dry heaving one day prior to\\nDOE, no vomiting. Also had constipation for two weeks.\\n\\nIn the ED inital vitals were, 99.3 98 113/58 16 99% on RA.\\nHeme/onc was consulted and patient was admitted to the ICU.\\n\\nOn arrival to the ICU, patient complained of mild headache, no\\nvisual changes, numbness or other symptoms.\\n\\nPast Medical History:\\nHyperlipidemia\\nHepatosteatosis\\n?Kidney stones\\n\\nSocial History:\\nWorked in construction in the past, unclear exposure to\\nchemicals. Last worked in [**2110**], for the State. He is widowed,\\ncurrently lives with girlfriend Girlfriend [**Name (NI) 553**] [**Name (NI) 496**] (HCP)\\n[**Telephone/Fax (1) 110427**].  Has 1 daughter who he is not in communication\\nwith.\\nQuestionable history of criminal record for armed robbery.\\nTOBACCO: smoked 1-1.5 ppd for ~40 years, quit in [**2128-1-4**]\\nETOH: used to drink [**7-11**] drinks/week, none recently\\nILLICITS: tried \"different things\" in the past, denies IV drug\\nuse. None currently.\\n\\nFamily History:\\nDenies family history of leukemia, lymphoma or other\\nmalignancies, but his family did not speak much of their\\nhistory. Has 1 sister with whom he does not speak.\\n\\nPhysical Exam:\\nADMISSION EXAM:\\nGeneral: very pale appearing male. alert, oriented to\\nperson/date, knows he\\'s in [**Location (un) 86**] and in a hospital, no acute\\ndistress. speaking in full sentences.\\nHEENT: Anicteric sclera, MM dry, oropharynx clear\\nNeck: supple, JVP not elevated, no LAD\\nLungs: Clear to auscultation bilaterally, no wheezes, rales,\\nrhonchi\\nCV: Regular rate and rhythm, normal S1 + S2, III/VI systolic\\nmurmur best heard at LLSB and axilla. No rubs, gallops\\nAbdomen: soft, slightly tender to palpation on RUQ,\\nnon-distended, bowel sounds present, no rebound tenderness or\\nguarding, no organomegaly\\nGU: no foley\\nExt: warm, well perfused, palpable DP bilaterally, no clubbing,\\ncyanosis or edema\\nNeuro: PERRL, EOMI without nystagmus, sensation intact to light\\ntouch in V1-V3 distribution, able to keep eyes closed to\\nresistance, hearing intact to finger rubbing bilaterally, tongue\\nmidline and palates elevate equally. SCM and trapezius [**5-8**]\\nbilaterally.\\nMotor: [**5-8**] in elbow flexor/extensor, finger grips, [**5-8**] in hip\\nflexors, knee flexors/extensors, ankle plantar\\nflexor/dorsiflexor.\\nReflexes: 1+ in biceps and patellar bilaterally\\n[**Doctor First Name **] intact bilaterally\\ngait deferred\\n\\nDISCHARGE EXAM:\\n\\nPertinent Results:\\nADMISSION LABS:\\n===============\\n[**2128-3-24**] 10:45PM BLOOD WBC-68.5* RBC-0.97* Hgb-3.3* Hct-10.3*\\nMCV-106* MCH-33.9* MCHC-32.0 RDW-20.3* Plt Ct-85*\\n[**2128-3-24**] 10:45PM BLOOD Neuts-0* Bands-0 Lymphs-4* Monos-0 Eos-0\\nBaso-0 Atyps-0 Metas-0 Myelos-0 Other-96*\\n[**2128-3-24**] 10:45PM BLOOD PT-14.9* PTT-37.1* INR(PT)-1.4*\\n[**2128-3-24**] 10:45PM BLOOD Fibrino-426*\\n[**2128-3-24**] 10:45PM BLOOD Glucose-126* UreaN-19 Creat-1.4* Na-138\\nK-3.8 Cl-105 HCO3-23 AnGap-14\\n[**2128-3-24**] 10:45PM BLOOD ALT-15 AST-26 LD(LDH)-304* CK(CPK)-66\\nAlkPhos-73 TotBili-0.6\\n[**2128-3-24**] 10:45PM BLOOD Albumin-3.9 Calcium-8.1* Phos-3.5 Mg-2.5\\nUricAcd-8.6*\\n\\nCBC TREND:\\n==========\\n[**2128-3-24**] 10:45PM BLOOD Neuts-0* Bands-0 Lymphs-4* Monos-0 Eos-0\\nBaso-0 Atyps-0 Metas-0 Myelos-0 Other-96*\\n[**2128-3-25**] 07:57AM BLOOD WBC-53.2* RBC-1.40*# Hgb-4.5* Hct-14.0*#\\nMCV-100* MCH-32.2* MCHC-32.1 RDW-20.5* Plt Ct-80*\\n[**2128-3-26**] 01:58AM BLOOD WBC-45.4* RBC-2.11* Hgb-6.9* Hct-20.1*\\nMCV-96 MCH-32.6* MCHC-34.1 RDW-19.6* Plt Ct-61*\\n[**2128-3-27**] 06:00AM BLOOD WBC-17.5* RBC-2.24* Hgb-7.2* Hct-21.3*\\nMCV-95 MCH-32.0 MCHC-33.6 RDW-18.8* Plt Ct-46*\\n[**2128-3-31**] 12:00AM BLOOD WBC-1.2* RBC-2.40* Hgb-7.7* Hct-22.6*\\nMCV-94 MCH-32.1* MCHC-34.1 RDW-16.3* Plt Ct-12*#\\n[**2128-4-4**] 04:10AM BLOOD WBC-.6* RBC-2.28* Hgb-7.1* Hct-21.0*\\nMCV-92 MCH-31.0 MCHC-33.6 RDW-15.3 Plt Ct-8*\\n[**2128-4-10**] 06:35AM BLOOD WBC-0.5* RBC-2.64* Hgb-8.0* Hct-22.8*\\nMCV-86 MCH-30.1 MCHC-34.9 RDW-14.5 Plt Ct-9*#\\n[**2128-4-14**] 12:00AM BLOOD WBC-0.6* RBC-2.76* Hgb-8.3* Hct-23.4*\\nMCV-85 MCH-30.0 MCHC-35.4* RDW-14.4 Plt Ct-13*\\n[**2128-4-20**] 12:10PM BLOOD WBC-0.6* RBC-2.95* Hgb-8.6* Hct-25.2*\\nMCV-85 MCH-29.1 MCHC-34.1 RDW-14.0 Plt Ct-43*\\n[**2128-4-27**] 12:00AM BLOOD WBC-0.4* RBC-2.52* Hgb-7.3* Hct-20.6*\\nMCV-82 MCH-29.1 MCHC-35.6* RDW-13.3 Plt Ct-9*\\n[**2128-5-4**] 12:00AM BLOOD WBC-0.4* RBC-2.65* Hgb-7.7* Hct-21.3*\\nMCV-80* MCH-29.0 MCHC-36.1* RDW-13.1 Plt Ct-6*#\\n[**2128-5-7**] 12:00AM BLOOD WBC-0.4* RBC-2.84* Hgb-8.3* Hct-22.8*\\nMCV-80* MCH-29.3 MCHC-36.5* RDW-13.0 Plt Ct-18*\\n[**2128-5-13**] 12:23PM BLOOD WBC-0.8* RBC-2.84* Hgb-8.1* Hct-22.8*\\nMCV-80* MCH-28.7 MCHC-35.7* RDW-13.0 Plt Ct-23*\\n[**2128-5-21**] 12:00AM BLOOD WBC-0.2* RBC-2.77* Hgb-8.1* Hct-21.8*\\nMCV-79* MCH-29.3 MCHC-37.2* RDW-12.7 Plt Ct-23*\\n[**2128-5-25**] 12:00AM BLOOD WBC-0.2* RBC-2.59* Hgb-7.4* Hct-20.6*\\nMCV-80* MCH-28.5 MCHC-35.8* RDW-12.9 Plt Ct-13*\\n[**2128-6-1**] 12:00AM BLOOD WBC-0.2* RBC-2.65* Hgb-7.7* Hct-21.2*\\nMCV-80* MCH-29.2 MCHC-36.4* RDW-13.0 Plt Ct-16*\\n[**2128-6-6**] 12:00AM BLOOD WBC-0.3* RBC-2.66* Hgb-7.5* Hct-21.0*\\nMCV-79* MCH-28.2 MCHC-35.7* RDW-12.7 Plt Ct-7*\\n[**2128-6-13**] 12:00AM BLOOD WBC-0.2* RBC-2.54* Hgb-7.5* Hct-20.4*\\nMCV-80* MCH-29.6 MCHC-36.8* RDW-13.4 Plt Ct-15*\\n[**2128-6-20**] 12:00AM BLOOD WBC-0.3* RBC-2.63* Hgb-7.6* Hct-21.6*\\nMCV-82 MCH-28.7 MCHC-35.1* RDW-13.2 Plt Ct-12*\\n50* Hgb-7.6* Hct-20.9* MCV-84 MCH-30.2 MCHC-36.2* RDW-13.9 Plt\\nCt-17*\\n[**2128-7-17**] 01:19AM BLOOD WBC-0.9* RBC-2.39* Hgb-7.0* Hct-20.0*\\nMCV-84 MCH-29.2 MCHC-34.9 RDW-13.7 Plt Ct-26*\\n[**2128-7-23**] 12:00AM BLOOD WBC-0.5* RBC-2.76* Hgb-8.4* Hct-22.5*\\nMCV-82 MCH-30.5 MCHC-37.4* RDW-13.4 Plt Ct-44*\\n[**2128-7-27**] 12:00AM BLOOD WBC-0.1* RBC-2.53* Hgb-7.4* Hct-20.7*\\nMCV-82 MCH-29.1 MCHC-35.7* RDW-13.4 Plt Ct-14*\\n[**2128-8-2**] 12:00AM BLOOD WBC-<0.1* RBC-2.66* Hgb-7.7* Hct-21.5*\\nMCV-81* MCH-28.8 MCHC-35.7* RDW-13.3 Plt Ct-8*\\n[**2128-8-6**] 12:00AM BLOOD WBC-<0.1* RBC-2.28* Hgb-6.7* Hct-18.2*\\nMCV-80* MCH-29.6 MCHC-36.9* RDW-13.5 Plt Ct-5*#\\n[**2128-8-10**] 05:20PM BLOOD WBC-<0.1 RBC-2.73* Hgb-7.9* Hct-22.1*\\nMCV-81* MCH-29.0 MCHC-35.8* RDW-15.4 Plt Ct-13*\\n[**2128-8-12**] 02:36AM BLOOD WBC-0.1* RBC-2.50* Hgb-7.2* Hct-20.2*\\nMCV-81* MCH-28.9 MCHC-35.8* RDW-14.4 Plt Ct-<5*\\n[**2128-8-15**] 05:22AM BLOOD WBC-0.2* RBC-2.76* Hgb-7.8* Hct-22.5*\\nMCV-81* MCH-28.4 MCHC-35.0 RDW-15.2 Plt Ct-15*\\n[**2128-8-18**] 03:20AM BLOOD WBC-0.5* RBC-2.81* Hgb-8.1* Hct-22.3*\\nMCV-80* MCH-28.7 MCHC-36.1* RDW-15.2 Plt Ct-5*\\n[**2128-8-20**] 12:38AM BLOOD WBC-0.6* RBC-2.43* Hgb-7.1* Hct-19.3*\\nMCV-80* MCH-29.1 MCHC-36.6* RDW-14.9 Plt Ct-<5\\n[**2128-8-22**] 01:00AM BLOOD WBC-0.5* RBC-2.44* Hgb-7.2* Hct-19.7*\\nMCV-81* MCH-29.6 MCHC-36.6* RDW-14.7 Plt Ct-19*#\\n[**2128-8-24**] 12:00AM BLOOD WBC-0.7* RBC-2.37* Hgb-7.2* Hct-19.4*\\nMCV-82 MCH-30.4 MCHC-37.1* RDW-14.2 Plt Ct-14*#\\n[**2128-8-25**] 02:00AM BLOOD WBC-1.2*# RBC-2.09* Hgb-6.3* Hct-17.4*\\nMCV-83 MCH-30.2 MCHC-36.3* RDW-14.4 Plt Ct-5*#\\n[**2128-8-27**] 12:00AM BLOOD WBC-2.5* RBC-2.40* Hgb-7.5* Hct-20.6*\\nMCV-86 MCH-31.1 MCHC-36.3* RDW-14.2 Plt Ct-11*\\n\\nHEPATOBILIARY IMAGING:\\n==================\\nRUQ US ([**2128-3-31**]):\\n1.  Biliary sludge with gallbladder and adherent stone or small\\npolyp.  No biliary ductal dilation.\\n2.  Normal liver.\\n3.  Splenomegaly.\\n\\nHIDA SCAN ([**2128-6-17**]): Normal hepatobiliary scan.\\n\\nRUQ US [**2128-6-17**]:\\n1.  Distended gallbladder filled with sludge without specific\\nsigns of\\ncholecystitis.  If there is clinical concern for acalculous\\ncholecystitis, HIDA scan is recommended.\\n2.  Splenomegaly.\\n\\nHIDA ([**7-20**]): Lack of tracer activity in the gallbladder is\\nconsistent with acute cholecystitis.\\n\\nU/S ABDOMEN ([**7-20**]):\\n1.  The gallbladder is distended and contains a large volume of\\nsludge.  There are no obstructing calculi identified.  No\\ngallbladder wall thickening to suggest inflammatory etiology.\\nHowever, if there is ongoing clinical concern for cholecystitis,\\na HIDA scan is recommended.\\n2.  The spleen measures 14 cm, decreased compared to the\\nprevious ultrasound.\\n\\nU/S ABDOMEN ([**8-20**]):\\n1.  Percutaneous cholecystostomy tube remains in place within a\\ndecompressed gallbladder without evidence of adjacent fluid\\ncollection.\\n2.  Splenomegaly.\\n3.  Right pleural effusion.\\n\\nABDOMINAL IMAGING:\\n==================\\nCT ABDOMEN ([**2128-4-6**]):\\n1.  Ascending and transverse colon wall thickening with adjacent\\nstranding is compatible with colitis which may be infectious,\\ninflammatory, or less likely ischemic given '}"
      ]
     },
     "execution_count": 12,
     "metadata": {},
     "output_type": "execute_result"
    }
   ],
   "source": [
    "records = df_split.to_json(orient=\"records\")\n",
    "parsed = json.loads(records)\n",
    "parsed[0]"
   ]
  },
  {
   "cell_type": "code",
   "execution_count": 14,
   "metadata": {},
   "outputs": [
    {
     "data": {
      "text/plain": [
       "2126293"
      ]
     },
     "execution_count": 14,
     "metadata": {},
     "output_type": "execute_result"
    }
   ],
   "source": [
    "len(parsed)"
   ]
  },
  {
   "cell_type": "code",
   "execution_count": 13,
   "metadata": {},
   "outputs": [],
   "source": [
    "with open(os.path.join('data', 'consumed', 'metamap_input.json'), 'w') as outfile:\n",
    "    json.dump(parsed, outfile)\n"
   ]
  },
  {
   "cell_type": "markdown",
   "metadata": {},
   "source": [
    "fin"
   ]
  },
  {
   "cell_type": "code",
   "execution_count": 31,
   "metadata": {},
   "outputs": [],
   "source": [
    "# def write_chunk(x):\n",
    "#     # print(x)\n",
    "#     row, sub, chunk, text = x\n",
    "#     file_name = f'row-{row}_sub-{sub}_chunk-{chunk}_.txt'\n",
    "#     file = os.path.join('data', 'metamap', file_name)\n",
    "#     with open(file, 'w') as outfile:\n",
    "#         outfile.write(text)"
   ]
  },
  {
   "cell_type": "code",
   "execution_count": 12,
   "metadata": {},
   "outputs": [
    {
     "data": {
      "text/html": [
       "<div>\n",
       "<style scoped>\n",
       "    .dataframe tbody tr th:only-of-type {\n",
       "        vertical-align: middle;\n",
       "    }\n",
       "\n",
       "    .dataframe tbody tr th {\n",
       "        vertical-align: top;\n",
       "    }\n",
       "\n",
       "    .dataframe thead th {\n",
       "        text-align: right;\n",
       "    }\n",
       "</style>\n",
       "<table border=\"1\" class=\"dataframe\">\n",
       "  <thead>\n",
       "    <tr style=\"text-align: right;\">\n",
       "      <th></th>\n",
       "      <th>file_name</th>\n",
       "    </tr>\n",
       "  </thead>\n",
       "  <tbody>\n",
       "    <tr>\n",
       "      <th>0</th>\n",
       "      <td>row-1000086_sub-28402_chunk-0.text</td>\n",
       "    </tr>\n",
       "    <tr>\n",
       "      <th>1</th>\n",
       "      <td>row-10000_sub-86502_chunk-0.text</td>\n",
       "    </tr>\n",
       "    <tr>\n",
       "      <th>2</th>\n",
       "      <td>row-10003_sub-84749_chunk-0.text</td>\n",
       "    </tr>\n",
       "    <tr>\n",
       "      <th>3</th>\n",
       "      <td>row-10004_sub-6116_chunk-0.text</td>\n",
       "    </tr>\n",
       "    <tr>\n",
       "      <th>4</th>\n",
       "      <td>row-10008_sub-21734_chunk-0.text</td>\n",
       "    </tr>\n",
       "  </tbody>\n",
       "</table>\n",
       "</div>"
      ],
      "text/plain": [
       "                            file_name\n",
       "0  row-1000086_sub-28402_chunk-0.text\n",
       "1    row-10000_sub-86502_chunk-0.text\n",
       "2    row-10003_sub-84749_chunk-0.text\n",
       "3     row-10004_sub-6116_chunk-0.text\n",
       "4    row-10008_sub-21734_chunk-0.text"
      ]
     },
     "execution_count": 12,
     "metadata": {},
     "output_type": "execute_result"
    }
   ],
   "source": [
    "# df_created = pd.DataFrame({'file_name': os.listdir(os.path.join('data', 'metamap'))})\n",
    "# df_created.head()"
   ]
  },
  {
   "cell_type": "code",
   "execution_count": 18,
   "metadata": {},
   "outputs": [
    {
     "data": {
      "text/html": [
       "<div>\n",
       "<style scoped>\n",
       "    .dataframe tbody tr th:only-of-type {\n",
       "        vertical-align: middle;\n",
       "    }\n",
       "\n",
       "    .dataframe tbody tr th {\n",
       "        vertical-align: top;\n",
       "    }\n",
       "\n",
       "    .dataframe thead th {\n",
       "        text-align: right;\n",
       "    }\n",
       "</style>\n",
       "<table border=\"1\" class=\"dataframe\">\n",
       "  <thead>\n",
       "    <tr style=\"text-align: right;\">\n",
       "      <th></th>\n",
       "      <th>file_name</th>\n",
       "      <th>file_parts</th>\n",
       "    </tr>\n",
       "  </thead>\n",
       "  <tbody>\n",
       "    <tr>\n",
       "      <th>0</th>\n",
       "      <td>row-1000086_sub-28402_chunk-0.text</td>\n",
       "      <td>[row-1000086, sub-28402, chunk-0.text]</td>\n",
       "    </tr>\n",
       "    <tr>\n",
       "      <th>1</th>\n",
       "      <td>row-10000_sub-86502_chunk-0.text</td>\n",
       "      <td>[row-10000, sub-86502, chunk-0.text]</td>\n",
       "    </tr>\n",
       "    <tr>\n",
       "      <th>2</th>\n",
       "      <td>row-10003_sub-84749_chunk-0.text</td>\n",
       "      <td>[row-10003, sub-84749, chunk-0.text]</td>\n",
       "    </tr>\n",
       "    <tr>\n",
       "      <th>3</th>\n",
       "      <td>row-10004_sub-6116_chunk-0.text</td>\n",
       "      <td>[row-10004, sub-6116, chunk-0.text]</td>\n",
       "    </tr>\n",
       "    <tr>\n",
       "      <th>4</th>\n",
       "      <td>row-10008_sub-21734_chunk-0.text</td>\n",
       "      <td>[row-10008, sub-21734, chunk-0.text]</td>\n",
       "    </tr>\n",
       "  </tbody>\n",
       "</table>\n",
       "</div>"
      ],
      "text/plain": [
       "                            file_name                              file_parts\n",
       "0  row-1000086_sub-28402_chunk-0.text  [row-1000086, sub-28402, chunk-0.text]\n",
       "1    row-10000_sub-86502_chunk-0.text    [row-10000, sub-86502, chunk-0.text]\n",
       "2    row-10003_sub-84749_chunk-0.text    [row-10003, sub-84749, chunk-0.text]\n",
       "3     row-10004_sub-6116_chunk-0.text     [row-10004, sub-6116, chunk-0.text]\n",
       "4    row-10008_sub-21734_chunk-0.text    [row-10008, sub-21734, chunk-0.text]"
      ]
     },
     "execution_count": 18,
     "metadata": {},
     "output_type": "execute_result"
    }
   ],
   "source": [
    "# df_created['file_parts'] = df_created['file_name'].str.split('_')\n",
    "# df_created.head()"
   ]
  },
  {
   "cell_type": "code",
   "execution_count": 25,
   "metadata": {},
   "outputs": [
    {
     "data": {
      "application/vnd.jupyter.widget-view+json": {
       "model_id": "164b72a4bdaa43bf8d45aa0ff9dfd337",
       "version_major": 2,
       "version_minor": 0
      },
      "text/plain": [
       "Pandas Apply:   0%|          | 0/36787 [00:00<?, ?it/s]"
      ]
     },
     "metadata": {},
     "output_type": "display_data"
    },
    {
     "data": {
      "text/html": [
       "<div>\n",
       "<style scoped>\n",
       "    .dataframe tbody tr th:only-of-type {\n",
       "        vertical-align: middle;\n",
       "    }\n",
       "\n",
       "    .dataframe tbody tr th {\n",
       "        vertical-align: top;\n",
       "    }\n",
       "\n",
       "    .dataframe thead th {\n",
       "        text-align: right;\n",
       "    }\n",
       "</style>\n",
       "<table border=\"1\" class=\"dataframe\">\n",
       "  <thead>\n",
       "    <tr style=\"text-align: right;\">\n",
       "      <th></th>\n",
       "      <th>file_name</th>\n",
       "      <th>file_parts</th>\n",
       "      <th>ROW_ID</th>\n",
       "    </tr>\n",
       "  </thead>\n",
       "  <tbody>\n",
       "    <tr>\n",
       "      <th>0</th>\n",
       "      <td>row-1000086_sub-28402_chunk-0.text</td>\n",
       "      <td>[row-1000086, sub-28402, chunk-0.text]</td>\n",
       "      <td>1000086</td>\n",
       "    </tr>\n",
       "    <tr>\n",
       "      <th>1</th>\n",
       "      <td>row-10000_sub-86502_chunk-0.text</td>\n",
       "      <td>[row-10000, sub-86502, chunk-0.text]</td>\n",
       "      <td>10000</td>\n",
       "    </tr>\n",
       "    <tr>\n",
       "      <th>2</th>\n",
       "      <td>row-10003_sub-84749_chunk-0.text</td>\n",
       "      <td>[row-10003, sub-84749, chunk-0.text]</td>\n",
       "      <td>10003</td>\n",
       "    </tr>\n",
       "    <tr>\n",
       "      <th>3</th>\n",
       "      <td>row-10004_sub-6116_chunk-0.text</td>\n",
       "      <td>[row-10004, sub-6116, chunk-0.text]</td>\n",
       "      <td>10004</td>\n",
       "    </tr>\n",
       "    <tr>\n",
       "      <th>4</th>\n",
       "      <td>row-10008_sub-21734_chunk-0.text</td>\n",
       "      <td>[row-10008, sub-21734, chunk-0.text]</td>\n",
       "      <td>10008</td>\n",
       "    </tr>\n",
       "  </tbody>\n",
       "</table>\n",
       "</div>"
      ],
      "text/plain": [
       "                            file_name                              file_parts  \\\n",
       "0  row-1000086_sub-28402_chunk-0.text  [row-1000086, sub-28402, chunk-0.text]   \n",
       "1    row-10000_sub-86502_chunk-0.text    [row-10000, sub-86502, chunk-0.text]   \n",
       "2    row-10003_sub-84749_chunk-0.text    [row-10003, sub-84749, chunk-0.text]   \n",
       "3     row-10004_sub-6116_chunk-0.text     [row-10004, sub-6116, chunk-0.text]   \n",
       "4    row-10008_sub-21734_chunk-0.text    [row-10008, sub-21734, chunk-0.text]   \n",
       "\n",
       "    ROW_ID  \n",
       "0  1000086  \n",
       "1    10000  \n",
       "2    10003  \n",
       "3    10004  \n",
       "4    10008  "
      ]
     },
     "execution_count": 25,
     "metadata": {},
     "output_type": "execute_result"
    }
   ],
   "source": [
    "# df_created['ROW_ID'] = df_created['file_parts'].swifter.apply(lambda x: x[0].split('-')[1])\n",
    "# df_created.head()"
   ]
  },
  {
   "cell_type": "code",
   "execution_count": 28,
   "metadata": {},
   "outputs": [
    {
     "data": {
      "application/vnd.jupyter.widget-view+json": {
       "model_id": "714941d372ae45b294146e0a089e11eb",
       "version_major": 2,
       "version_minor": 0
      },
      "text/plain": [
       "Pandas Apply:   0%|          | 0/36787 [00:00<?, ?it/s]"
      ]
     },
     "metadata": {},
     "output_type": "display_data"
    },
    {
     "ename": "IndexError",
     "evalue": "list index out of range",
     "output_type": "error",
     "traceback": [
      "\u001b[1;31m---------------------------------------------------------------------------\u001b[0m",
      "\u001b[1;31mKeyError\u001b[0m                                  Traceback (most recent call last)",
      "File \u001b[1;32mc:\\Users\\aknof\\.conda\\envs\\bdproj310\\lib\\site-packages\\pandas\\core\\indexes\\base.py:3803\u001b[0m, in \u001b[0;36mIndex.get_loc\u001b[1;34m(self, key, method, tolerance)\u001b[0m\n\u001b[0;32m   3802\u001b[0m \u001b[39mtry\u001b[39;00m:\n\u001b[1;32m-> 3803\u001b[0m     \u001b[39mreturn\u001b[39;00m \u001b[39mself\u001b[39;49m\u001b[39m.\u001b[39;49m_engine\u001b[39m.\u001b[39;49mget_loc(casted_key)\n\u001b[0;32m   3804\u001b[0m \u001b[39mexcept\u001b[39;00m \u001b[39mKeyError\u001b[39;00m \u001b[39mas\u001b[39;00m err:\n",
      "File \u001b[1;32mc:\\Users\\aknof\\.conda\\envs\\bdproj310\\lib\\site-packages\\pandas\\_libs\\index.pyx:138\u001b[0m, in \u001b[0;36mpandas._libs.index.IndexEngine.get_loc\u001b[1;34m()\u001b[0m\n",
      "File \u001b[1;32mc:\\Users\\aknof\\.conda\\envs\\bdproj310\\lib\\site-packages\\pandas\\_libs\\index.pyx:165\u001b[0m, in \u001b[0;36mpandas._libs.index.IndexEngine.get_loc\u001b[1;34m()\u001b[0m\n",
      "File \u001b[1;32mpandas\\_libs\\hashtable_class_helper.pxi:2263\u001b[0m, in \u001b[0;36mpandas._libs.hashtable.Int64HashTable.get_item\u001b[1;34m()\u001b[0m\n",
      "File \u001b[1;32mpandas\\_libs\\hashtable_class_helper.pxi:2273\u001b[0m, in \u001b[0;36mpandas._libs.hashtable.Int64HashTable.get_item\u001b[1;34m()\u001b[0m\n",
      "\u001b[1;31mKeyError\u001b[0m: 1",
      "\nThe above exception was the direct cause of the following exception:\n",
      "\u001b[1;31mKeyError\u001b[0m                                  Traceback (most recent call last)",
      "File \u001b[1;32mc:\\Users\\aknof\\.conda\\envs\\bdproj310\\lib\\site-packages\\swifter\\swifter.py:309\u001b[0m, in \u001b[0;36mSeriesAccessor.apply\u001b[1;34m(self, func, convert_dtype, args, **kwds)\u001b[0m\n\u001b[0;32m    308\u001b[0m \u001b[39mwith\u001b[39;00m suppress_stdout_stderr_logging():\n\u001b[1;32m--> 309\u001b[0m     tmp_df \u001b[39m=\u001b[39m func(sample, \u001b[39m*\u001b[39margs, \u001b[39m*\u001b[39m\u001b[39m*\u001b[39mkwds)\n\u001b[0;32m    310\u001b[0m     sample_df \u001b[39m=\u001b[39m sample\u001b[39m.\u001b[39mapply(func, convert_dtype\u001b[39m=\u001b[39mconvert_dtype, args\u001b[39m=\u001b[39margs, \u001b[39m*\u001b[39m\u001b[39m*\u001b[39mkwds)\n",
      "Cell \u001b[1;32mIn [28], line 3\u001b[0m, in \u001b[0;36m<lambda>\u001b[1;34m(x)\u001b[0m\n\u001b[0;32m      1\u001b[0m \u001b[39m# df_created['SUBJECT_ID'] = \u001b[39;00m\n\u001b[0;32m      2\u001b[0m \u001b[39m# df_created['file_parts'].swifter.apply(lambda x: x[1].split('-')[1])\u001b[39;00m\n\u001b[1;32m----> 3\u001b[0m df_created[\u001b[39m'\u001b[39m\u001b[39mfile_parts\u001b[39m\u001b[39m'\u001b[39m]\u001b[39m.\u001b[39mswifter\u001b[39m.\u001b[39mapply(\u001b[39mlambda\u001b[39;00m x: x[\u001b[39m1\u001b[39;49m]\u001b[39m.\u001b[39msplit(\u001b[39m'\u001b[39m\u001b[39m-\u001b[39m\u001b[39m'\u001b[39m)[\u001b[39m1\u001b[39m])\u001b[39m.\u001b[39mhead()\n\u001b[0;32m      4\u001b[0m \u001b[39m# df_created.head()\u001b[39;00m\n",
      "File \u001b[1;32mc:\\Users\\aknof\\.conda\\envs\\bdproj310\\lib\\site-packages\\pandas\\core\\series.py:981\u001b[0m, in \u001b[0;36mSeries.__getitem__\u001b[1;34m(self, key)\u001b[0m\n\u001b[0;32m    980\u001b[0m \u001b[39melif\u001b[39;00m key_is_scalar:\n\u001b[1;32m--> 981\u001b[0m     \u001b[39mreturn\u001b[39;00m \u001b[39mself\u001b[39;49m\u001b[39m.\u001b[39;49m_get_value(key)\n\u001b[0;32m    983\u001b[0m \u001b[39mif\u001b[39;00m is_hashable(key):\n\u001b[0;32m    984\u001b[0m     \u001b[39m# Otherwise index.get_value will raise InvalidIndexError\u001b[39;00m\n",
      "File \u001b[1;32mc:\\Users\\aknof\\.conda\\envs\\bdproj310\\lib\\site-packages\\pandas\\core\\series.py:1089\u001b[0m, in \u001b[0;36mSeries._get_value\u001b[1;34m(self, label, takeable)\u001b[0m\n\u001b[0;32m   1088\u001b[0m \u001b[39m# Similar to Index.get_value, but we do not fall back to positional\u001b[39;00m\n\u001b[1;32m-> 1089\u001b[0m loc \u001b[39m=\u001b[39m \u001b[39mself\u001b[39;49m\u001b[39m.\u001b[39;49mindex\u001b[39m.\u001b[39;49mget_loc(label)\n\u001b[0;32m   1090\u001b[0m \u001b[39mreturn\u001b[39;00m \u001b[39mself\u001b[39m\u001b[39m.\u001b[39mindex\u001b[39m.\u001b[39m_get_values_for_loc(\u001b[39mself\u001b[39m, loc, label)\n",
      "File \u001b[1;32mc:\\Users\\aknof\\.conda\\envs\\bdproj310\\lib\\site-packages\\pandas\\core\\indexes\\base.py:3805\u001b[0m, in \u001b[0;36mIndex.get_loc\u001b[1;34m(self, key, method, tolerance)\u001b[0m\n\u001b[0;32m   3804\u001b[0m \u001b[39mexcept\u001b[39;00m \u001b[39mKeyError\u001b[39;00m \u001b[39mas\u001b[39;00m err:\n\u001b[1;32m-> 3805\u001b[0m     \u001b[39mraise\u001b[39;00m \u001b[39mKeyError\u001b[39;00m(key) \u001b[39mfrom\u001b[39;00m \u001b[39merr\u001b[39;00m\n\u001b[0;32m   3806\u001b[0m \u001b[39mexcept\u001b[39;00m \u001b[39mTypeError\u001b[39;00m:\n\u001b[0;32m   3807\u001b[0m     \u001b[39m# If we have a listlike key, _check_indexing_error will raise\u001b[39;00m\n\u001b[0;32m   3808\u001b[0m     \u001b[39m#  InvalidIndexError. Otherwise we fall through and re-raise\u001b[39;00m\n\u001b[0;32m   3809\u001b[0m     \u001b[39m#  the TypeError.\u001b[39;00m\n",
      "\u001b[1;31mKeyError\u001b[0m: 1",
      "\nDuring handling of the above exception, another exception occurred:\n",
      "\u001b[1;31mIndexError\u001b[0m                                Traceback (most recent call last)",
      "Cell \u001b[1;32mIn [28], line 3\u001b[0m\n\u001b[0;32m      1\u001b[0m \u001b[39m# df_created['SUBJECT_ID'] = \u001b[39;00m\n\u001b[0;32m      2\u001b[0m \u001b[39m# df_created['file_parts'].swifter.apply(lambda x: x[1].split('-')[1])\u001b[39;00m\n\u001b[1;32m----> 3\u001b[0m df_created[\u001b[39m'\u001b[39;49m\u001b[39mfile_parts\u001b[39;49m\u001b[39m'\u001b[39;49m]\u001b[39m.\u001b[39;49mswifter\u001b[39m.\u001b[39;49mapply(\u001b[39mlambda\u001b[39;49;00m x: x[\u001b[39m1\u001b[39;49m]\u001b[39m.\u001b[39;49msplit(\u001b[39m'\u001b[39;49m\u001b[39m-\u001b[39;49m\u001b[39m'\u001b[39;49m)[\u001b[39m1\u001b[39;49m])\u001b[39m.\u001b[39mhead()\n\u001b[0;32m      4\u001b[0m \u001b[39m# df_created.head()\u001b[39;00m\n",
      "File \u001b[1;32mc:\\Users\\aknof\\.conda\\envs\\bdproj310\\lib\\site-packages\\swifter\\swifter.py:329\u001b[0m, in \u001b[0;36mSeriesAccessor.apply\u001b[1;34m(self, func, convert_dtype, args, **kwds)\u001b[0m\n\u001b[0;32m    327\u001b[0m \u001b[39mif\u001b[39;00m \u001b[39mself\u001b[39m\u001b[39m.\u001b[39m_progress_bar:\n\u001b[0;32m    328\u001b[0m     tqdm\u001b[39m.\u001b[39mpandas(desc\u001b[39m=\u001b[39m\u001b[39mself\u001b[39m\u001b[39m.\u001b[39m_progress_bar_desc \u001b[39mor\u001b[39;00m \u001b[39m\"\u001b[39m\u001b[39mPandas Apply\u001b[39m\u001b[39m\"\u001b[39m)\n\u001b[1;32m--> 329\u001b[0m     \u001b[39mreturn\u001b[39;00m \u001b[39mself\u001b[39m\u001b[39m.\u001b[39m_obj\u001b[39m.\u001b[39mprogress_apply(func, convert_dtype\u001b[39m=\u001b[39mconvert_dtype, args\u001b[39m=\u001b[39margs, \u001b[39m*\u001b[39m\u001b[39m*\u001b[39mkwds)\n\u001b[0;32m    330\u001b[0m \u001b[39melse\u001b[39;00m:\n\u001b[0;32m    331\u001b[0m     \u001b[39mreturn\u001b[39;00m \u001b[39mself\u001b[39m\u001b[39m.\u001b[39m_obj\u001b[39m.\u001b[39mapply(func, convert_dtype\u001b[39m=\u001b[39mconvert_dtype, args\u001b[39m=\u001b[39margs, \u001b[39m*\u001b[39m\u001b[39m*\u001b[39mkwds)\n",
      "File \u001b[1;32mc:\\Users\\aknof\\.conda\\envs\\bdproj310\\lib\\site-packages\\tqdm\\std.py:814\u001b[0m, in \u001b[0;36mtqdm.pandas.<locals>.inner_generator.<locals>.inner\u001b[1;34m(df, func, *args, **kwargs)\u001b[0m\n\u001b[0;32m    811\u001b[0m \u001b[39m# Apply the provided function (in **kwargs)\u001b[39;00m\n\u001b[0;32m    812\u001b[0m \u001b[39m# on the df using our wrapper (which provides bar updating)\u001b[39;00m\n\u001b[0;32m    813\u001b[0m \u001b[39mtry\u001b[39;00m:\n\u001b[1;32m--> 814\u001b[0m     \u001b[39mreturn\u001b[39;00m \u001b[39mgetattr\u001b[39m(df, df_function)(wrapper, \u001b[39m*\u001b[39m\u001b[39m*\u001b[39mkwargs)\n\u001b[0;32m    815\u001b[0m \u001b[39mfinally\u001b[39;00m:\n\u001b[0;32m    816\u001b[0m     t\u001b[39m.\u001b[39mclose()\n",
      "File \u001b[1;32mc:\\Users\\aknof\\.conda\\envs\\bdproj310\\lib\\site-packages\\pandas\\core\\series.py:4771\u001b[0m, in \u001b[0;36mSeries.apply\u001b[1;34m(self, func, convert_dtype, args, **kwargs)\u001b[0m\n\u001b[0;32m   4661\u001b[0m \u001b[39mdef\u001b[39;00m \u001b[39mapply\u001b[39m(\n\u001b[0;32m   4662\u001b[0m     \u001b[39mself\u001b[39m,\n\u001b[0;32m   4663\u001b[0m     func: AggFuncType,\n\u001b[1;32m   (...)\u001b[0m\n\u001b[0;32m   4666\u001b[0m     \u001b[39m*\u001b[39m\u001b[39m*\u001b[39mkwargs,\n\u001b[0;32m   4667\u001b[0m ) \u001b[39m-\u001b[39m\u001b[39m>\u001b[39m DataFrame \u001b[39m|\u001b[39m Series:\n\u001b[0;32m   4668\u001b[0m     \u001b[39m\"\"\"\u001b[39;00m\n\u001b[0;32m   4669\u001b[0m \u001b[39m    Invoke function on values of Series.\u001b[39;00m\n\u001b[0;32m   4670\u001b[0m \n\u001b[1;32m   (...)\u001b[0m\n\u001b[0;32m   4769\u001b[0m \u001b[39m    dtype: float64\u001b[39;00m\n\u001b[0;32m   4770\u001b[0m \u001b[39m    \"\"\"\u001b[39;00m\n\u001b[1;32m-> 4771\u001b[0m     \u001b[39mreturn\u001b[39;00m SeriesApply(\u001b[39mself\u001b[39;49m, func, convert_dtype, args, kwargs)\u001b[39m.\u001b[39;49mapply()\n",
      "File \u001b[1;32mc:\\Users\\aknof\\.conda\\envs\\bdproj310\\lib\\site-packages\\pandas\\core\\apply.py:1105\u001b[0m, in \u001b[0;36mSeriesApply.apply\u001b[1;34m(self)\u001b[0m\n\u001b[0;32m   1102\u001b[0m     \u001b[39mreturn\u001b[39;00m \u001b[39mself\u001b[39m\u001b[39m.\u001b[39mapply_str()\n\u001b[0;32m   1104\u001b[0m \u001b[39m# self.f is Callable\u001b[39;00m\n\u001b[1;32m-> 1105\u001b[0m \u001b[39mreturn\u001b[39;00m \u001b[39mself\u001b[39;49m\u001b[39m.\u001b[39;49mapply_standard()\n",
      "File \u001b[1;32mc:\\Users\\aknof\\.conda\\envs\\bdproj310\\lib\\site-packages\\pandas\\core\\apply.py:1156\u001b[0m, in \u001b[0;36mSeriesApply.apply_standard\u001b[1;34m(self)\u001b[0m\n\u001b[0;32m   1154\u001b[0m     \u001b[39melse\u001b[39;00m:\n\u001b[0;32m   1155\u001b[0m         values \u001b[39m=\u001b[39m obj\u001b[39m.\u001b[39mastype(\u001b[39mobject\u001b[39m)\u001b[39m.\u001b[39m_values\n\u001b[1;32m-> 1156\u001b[0m         mapped \u001b[39m=\u001b[39m lib\u001b[39m.\u001b[39;49mmap_infer(\n\u001b[0;32m   1157\u001b[0m             values,\n\u001b[0;32m   1158\u001b[0m             f,\n\u001b[0;32m   1159\u001b[0m             convert\u001b[39m=\u001b[39;49m\u001b[39mself\u001b[39;49m\u001b[39m.\u001b[39;49mconvert_dtype,\n\u001b[0;32m   1160\u001b[0m         )\n\u001b[0;32m   1162\u001b[0m \u001b[39mif\u001b[39;00m \u001b[39mlen\u001b[39m(mapped) \u001b[39mand\u001b[39;00m \u001b[39misinstance\u001b[39m(mapped[\u001b[39m0\u001b[39m], ABCSeries):\n\u001b[0;32m   1163\u001b[0m     \u001b[39m# GH#43986 Need to do list(mapped) in order to get treated as nested\u001b[39;00m\n\u001b[0;32m   1164\u001b[0m     \u001b[39m#  See also GH#25959 regarding EA support\u001b[39;00m\n\u001b[0;32m   1165\u001b[0m     \u001b[39mreturn\u001b[39;00m obj\u001b[39m.\u001b[39m_constructor_expanddim(\u001b[39mlist\u001b[39m(mapped), index\u001b[39m=\u001b[39mobj\u001b[39m.\u001b[39mindex)\n",
      "File \u001b[1;32mc:\\Users\\aknof\\.conda\\envs\\bdproj310\\lib\\site-packages\\pandas\\_libs\\lib.pyx:2918\u001b[0m, in \u001b[0;36mpandas._libs.lib.map_infer\u001b[1;34m()\u001b[0m\n",
      "File \u001b[1;32mc:\\Users\\aknof\\.conda\\envs\\bdproj310\\lib\\site-packages\\tqdm\\std.py:809\u001b[0m, in \u001b[0;36mtqdm.pandas.<locals>.inner_generator.<locals>.inner.<locals>.wrapper\u001b[1;34m(*args, **kwargs)\u001b[0m\n\u001b[0;32m    803\u001b[0m \u001b[39mdef\u001b[39;00m \u001b[39mwrapper\u001b[39m(\u001b[39m*\u001b[39margs, \u001b[39m*\u001b[39m\u001b[39m*\u001b[39mkwargs):\n\u001b[0;32m    804\u001b[0m     \u001b[39m# update tbar correctly\u001b[39;00m\n\u001b[0;32m    805\u001b[0m     \u001b[39m# it seems `pandas apply` calls `func` twice\u001b[39;00m\n\u001b[0;32m    806\u001b[0m     \u001b[39m# on the first column/row to decide whether it can\u001b[39;00m\n\u001b[0;32m    807\u001b[0m     \u001b[39m# take a fast or slow code path; so stop when t.total==t.n\u001b[39;00m\n\u001b[0;32m    808\u001b[0m     t\u001b[39m.\u001b[39mupdate(n\u001b[39m=\u001b[39m\u001b[39m1\u001b[39m \u001b[39mif\u001b[39;00m \u001b[39mnot\u001b[39;00m t\u001b[39m.\u001b[39mtotal \u001b[39mor\u001b[39;00m t\u001b[39m.\u001b[39mn \u001b[39m<\u001b[39m t\u001b[39m.\u001b[39mtotal \u001b[39melse\u001b[39;00m \u001b[39m0\u001b[39m)\n\u001b[1;32m--> 809\u001b[0m     \u001b[39mreturn\u001b[39;00m func(\u001b[39m*\u001b[39margs, \u001b[39m*\u001b[39m\u001b[39m*\u001b[39mkwargs)\n",
      "Cell \u001b[1;32mIn [28], line 3\u001b[0m, in \u001b[0;36m<lambda>\u001b[1;34m(x)\u001b[0m\n\u001b[0;32m      1\u001b[0m \u001b[39m# df_created['SUBJECT_ID'] = \u001b[39;00m\n\u001b[0;32m      2\u001b[0m \u001b[39m# df_created['file_parts'].swifter.apply(lambda x: x[1].split('-')[1])\u001b[39;00m\n\u001b[1;32m----> 3\u001b[0m df_created[\u001b[39m'\u001b[39m\u001b[39mfile_parts\u001b[39m\u001b[39m'\u001b[39m]\u001b[39m.\u001b[39mswifter\u001b[39m.\u001b[39mapply(\u001b[39mlambda\u001b[39;00m x: x[\u001b[39m1\u001b[39;49m]\u001b[39m.\u001b[39;49msplit(\u001b[39m'\u001b[39;49m\u001b[39m-\u001b[39;49m\u001b[39m'\u001b[39;49m)[\u001b[39m1\u001b[39;49m])\u001b[39m.\u001b[39mhead()\n\u001b[0;32m      4\u001b[0m \u001b[39m# df_created.head()\u001b[39;00m\n",
      "\u001b[1;31mIndexError\u001b[0m: list index out of range"
     ]
    }
   ],
   "source": [
    "# # df_created['SUBJECT_ID'] = \n",
    "# # df_created['file_parts'].swifter.apply(lambda x: x[1].split('-')[1])\n",
    "# df_created['file_parts'].swifter.apply(lambda x: x[1].split('-')[1]).head()\n",
    "# # df_created.head()"
   ]
  },
  {
   "cell_type": "code",
   "execution_count": null,
   "metadata": {},
   "outputs": [],
   "source": [
    "# df_created['chunk_num'] = df_created['file_parts'].swifter.apply(lambda x: x[2].split('-')[1][0])\n",
    "# df_created.head()"
   ]
  },
  {
   "cell_type": "code",
   "execution_count": 32,
   "metadata": {},
   "outputs": [
    {
     "data": {
      "application/vnd.jupyter.widget-view+json": {
       "model_id": "429cdfd374cb4c4c94f0ae05fddef1c0",
       "version_major": 2,
       "version_minor": 0
      },
      "text/plain": [
       "Pandas Apply:   0%|          | 0/2126293 [00:00<?, ?it/s]"
      ]
     },
     "metadata": {},
     "output_type": "display_data"
    },
    {
     "ename": "KeyboardInterrupt",
     "evalue": "",
     "output_type": "error",
     "traceback": [
      "\u001b[1;31m---------------------------------------------------------------------------\u001b[0m",
      "\u001b[1;31mAttributeError\u001b[0m                            Traceback (most recent call last)",
      "File \u001b[1;32mc:\\Users\\aknof\\.conda\\envs\\bdproj310\\lib\\site-packages\\swifter\\swifter.py:430\u001b[0m, in \u001b[0;36mDataFrameAccessor.apply\u001b[1;34m(self, func, axis, raw, result_type, args, **kwds)\u001b[0m\n\u001b[0;32m    428\u001b[0m     sample_df \u001b[39m=\u001b[39m sample\u001b[39m.\u001b[39mapply(func, axis\u001b[39m=\u001b[39maxis, raw\u001b[39m=\u001b[39mraw, result_type\u001b[39m=\u001b[39mresult_type, args\u001b[39m=\u001b[39margs, \u001b[39m*\u001b[39m\u001b[39m*\u001b[39mkwds)\n\u001b[0;32m    429\u001b[0m     \u001b[39mself\u001b[39m\u001b[39m.\u001b[39m_validate_apply(\n\u001b[1;32m--> 430\u001b[0m         np\u001b[39m.\u001b[39marray_equal(sample_df, tmp_df) \u001b[39m&\u001b[39m (\u001b[39mhasattr\u001b[39m(tmp_df, \u001b[39m\"\u001b[39m\u001b[39mshape\u001b[39m\u001b[39m\"\u001b[39m)) \u001b[39m&\u001b[39m (sample_df\u001b[39m.\u001b[39mshape \u001b[39m==\u001b[39m tmp_df\u001b[39m.\u001b[39;49mshape),\n\u001b[0;32m    431\u001b[0m         error_message\u001b[39m=\u001b[39m(\u001b[39m\"\u001b[39m\u001b[39mVectorized function sample does not match pandas apply sample.\u001b[39m\u001b[39m\"\u001b[39m),\n\u001b[0;32m    432\u001b[0m     )\n\u001b[0;32m    433\u001b[0m \u001b[39mreturn\u001b[39;00m func(\u001b[39mself\u001b[39m\u001b[39m.\u001b[39m_obj, \u001b[39m*\u001b[39margs, \u001b[39m*\u001b[39m\u001b[39m*\u001b[39mkwds)\n",
      "\u001b[1;31mAttributeError\u001b[0m: 'NoneType' object has no attribute 'shape'",
      "\nDuring handling of the above exception, another exception occurred:\n",
      "\u001b[1;31mKeyboardInterrupt\u001b[0m                         Traceback (most recent call last)",
      "Cell \u001b[1;32mIn [32], line 1\u001b[0m\n\u001b[1;32m----> 1\u001b[0m df_split[[\u001b[39m'\u001b[39;49m\u001b[39mROW_ID\u001b[39;49m\u001b[39m'\u001b[39;49m, \u001b[39m'\u001b[39;49m\u001b[39mSUBJECT_ID\u001b[39;49m\u001b[39m'\u001b[39;49m, \u001b[39m'\u001b[39;49m\u001b[39mchunk_num\u001b[39;49m\u001b[39m'\u001b[39;49m, \u001b[39m'\u001b[39;49m\u001b[39mchunk_text\u001b[39;49m\u001b[39m'\u001b[39;49m]]\u001b[39m.\u001b[39;49mswifter\u001b[39m.\u001b[39;49mapply(write_chunk, axis\u001b[39m=\u001b[39;49m\u001b[39m1\u001b[39;49m)\n",
      "File \u001b[1;32mc:\\Users\\aknof\\.conda\\envs\\bdproj310\\lib\\site-packages\\swifter\\swifter.py:451\u001b[0m, in \u001b[0;36mDataFrameAccessor.apply\u001b[1;34m(self, func, axis, raw, result_type, args, **kwds)\u001b[0m\n\u001b[0;32m    448\u001b[0m \u001b[39melse\u001b[39;00m:\n\u001b[0;32m    449\u001b[0m     apply_func \u001b[39m=\u001b[39m \u001b[39mself\u001b[39m\u001b[39m.\u001b[39m_obj\u001b[39m.\u001b[39mapply\n\u001b[1;32m--> 451\u001b[0m \u001b[39mreturn\u001b[39;00m apply_func(func, axis\u001b[39m=\u001b[39maxis, raw\u001b[39m=\u001b[39mraw, result_type\u001b[39m=\u001b[39mresult_type, args\u001b[39m=\u001b[39margs, \u001b[39m*\u001b[39m\u001b[39m*\u001b[39mkwds)\n",
      "File \u001b[1;32mc:\\Users\\aknof\\.conda\\envs\\bdproj310\\lib\\site-packages\\tqdm\\std.py:814\u001b[0m, in \u001b[0;36mtqdm.pandas.<locals>.inner_generator.<locals>.inner\u001b[1;34m(df, func, *args, **kwargs)\u001b[0m\n\u001b[0;32m    811\u001b[0m \u001b[39m# Apply the provided function (in **kwargs)\u001b[39;00m\n\u001b[0;32m    812\u001b[0m \u001b[39m# on the df using our wrapper (which provides bar updating)\u001b[39;00m\n\u001b[0;32m    813\u001b[0m \u001b[39mtry\u001b[39;00m:\n\u001b[1;32m--> 814\u001b[0m     \u001b[39mreturn\u001b[39;00m \u001b[39mgetattr\u001b[39m(df, df_function)(wrapper, \u001b[39m*\u001b[39m\u001b[39m*\u001b[39mkwargs)\n\u001b[0;32m    815\u001b[0m \u001b[39mfinally\u001b[39;00m:\n\u001b[0;32m    816\u001b[0m     t\u001b[39m.\u001b[39mclose()\n",
      "File \u001b[1;32mc:\\Users\\aknof\\.conda\\envs\\bdproj310\\lib\\site-packages\\pandas\\core\\frame.py:9555\u001b[0m, in \u001b[0;36mDataFrame.apply\u001b[1;34m(self, func, axis, raw, result_type, args, **kwargs)\u001b[0m\n\u001b[0;32m   9544\u001b[0m \u001b[39mfrom\u001b[39;00m \u001b[39mpandas\u001b[39;00m\u001b[39m.\u001b[39;00m\u001b[39mcore\u001b[39;00m\u001b[39m.\u001b[39;00m\u001b[39mapply\u001b[39;00m \u001b[39mimport\u001b[39;00m frame_apply\n\u001b[0;32m   9546\u001b[0m op \u001b[39m=\u001b[39m frame_apply(\n\u001b[0;32m   9547\u001b[0m     \u001b[39mself\u001b[39m,\n\u001b[0;32m   9548\u001b[0m     func\u001b[39m=\u001b[39mfunc,\n\u001b[1;32m   (...)\u001b[0m\n\u001b[0;32m   9553\u001b[0m     kwargs\u001b[39m=\u001b[39mkwargs,\n\u001b[0;32m   9554\u001b[0m )\n\u001b[1;32m-> 9555\u001b[0m \u001b[39mreturn\u001b[39;00m op\u001b[39m.\u001b[39;49mapply()\u001b[39m.\u001b[39m__finalize__(\u001b[39mself\u001b[39m, method\u001b[39m=\u001b[39m\u001b[39m\"\u001b[39m\u001b[39mapply\u001b[39m\u001b[39m\"\u001b[39m)\n",
      "File \u001b[1;32mc:\\Users\\aknof\\.conda\\envs\\bdproj310\\lib\\site-packages\\pandas\\core\\apply.py:746\u001b[0m, in \u001b[0;36mFrameApply.apply\u001b[1;34m(self)\u001b[0m\n\u001b[0;32m    743\u001b[0m \u001b[39melif\u001b[39;00m \u001b[39mself\u001b[39m\u001b[39m.\u001b[39mraw:\n\u001b[0;32m    744\u001b[0m     \u001b[39mreturn\u001b[39;00m \u001b[39mself\u001b[39m\u001b[39m.\u001b[39mapply_raw()\n\u001b[1;32m--> 746\u001b[0m \u001b[39mreturn\u001b[39;00m \u001b[39mself\u001b[39;49m\u001b[39m.\u001b[39;49mapply_standard()\n",
      "File \u001b[1;32mc:\\Users\\aknof\\.conda\\envs\\bdproj310\\lib\\site-packages\\pandas\\core\\apply.py:873\u001b[0m, in \u001b[0;36mFrameApply.apply_standard\u001b[1;34m(self)\u001b[0m\n\u001b[0;32m    872\u001b[0m \u001b[39mdef\u001b[39;00m \u001b[39mapply_standard\u001b[39m(\u001b[39mself\u001b[39m):\n\u001b[1;32m--> 873\u001b[0m     results, res_index \u001b[39m=\u001b[39m \u001b[39mself\u001b[39;49m\u001b[39m.\u001b[39;49mapply_series_generator()\n\u001b[0;32m    875\u001b[0m     \u001b[39m# wrap results\u001b[39;00m\n\u001b[0;32m    876\u001b[0m     \u001b[39mreturn\u001b[39;00m \u001b[39mself\u001b[39m\u001b[39m.\u001b[39mwrap_results(results, res_index)\n",
      "File \u001b[1;32mc:\\Users\\aknof\\.conda\\envs\\bdproj310\\lib\\site-packages\\pandas\\core\\apply.py:889\u001b[0m, in \u001b[0;36mFrameApply.apply_series_generator\u001b[1;34m(self)\u001b[0m\n\u001b[0;32m    886\u001b[0m \u001b[39mwith\u001b[39;00m option_context(\u001b[39m\"\u001b[39m\u001b[39mmode.chained_assignment\u001b[39m\u001b[39m\"\u001b[39m, \u001b[39mNone\u001b[39;00m):\n\u001b[0;32m    887\u001b[0m     \u001b[39mfor\u001b[39;00m i, v \u001b[39min\u001b[39;00m \u001b[39menumerate\u001b[39m(series_gen):\n\u001b[0;32m    888\u001b[0m         \u001b[39m# ignore SettingWithCopy here in case the user mutates\u001b[39;00m\n\u001b[1;32m--> 889\u001b[0m         results[i] \u001b[39m=\u001b[39m \u001b[39mself\u001b[39;49m\u001b[39m.\u001b[39;49mf(v)\n\u001b[0;32m    890\u001b[0m         \u001b[39mif\u001b[39;00m \u001b[39misinstance\u001b[39m(results[i], ABCSeries):\n\u001b[0;32m    891\u001b[0m             \u001b[39m# If we have a view on v, we need to make a copy because\u001b[39;00m\n\u001b[0;32m    892\u001b[0m             \u001b[39m#  series_generator will swap out the underlying data\u001b[39;00m\n\u001b[0;32m    893\u001b[0m             results[i] \u001b[39m=\u001b[39m results[i]\u001b[39m.\u001b[39mcopy(deep\u001b[39m=\u001b[39m\u001b[39mFalse\u001b[39;00m)\n",
      "File \u001b[1;32mc:\\Users\\aknof\\.conda\\envs\\bdproj310\\lib\\site-packages\\tqdm\\std.py:809\u001b[0m, in \u001b[0;36mtqdm.pandas.<locals>.inner_generator.<locals>.inner.<locals>.wrapper\u001b[1;34m(*args, **kwargs)\u001b[0m\n\u001b[0;32m    803\u001b[0m \u001b[39mdef\u001b[39;00m \u001b[39mwrapper\u001b[39m(\u001b[39m*\u001b[39margs, \u001b[39m*\u001b[39m\u001b[39m*\u001b[39mkwargs):\n\u001b[0;32m    804\u001b[0m     \u001b[39m# update tbar correctly\u001b[39;00m\n\u001b[0;32m    805\u001b[0m     \u001b[39m# it seems `pandas apply` calls `func` twice\u001b[39;00m\n\u001b[0;32m    806\u001b[0m     \u001b[39m# on the first column/row to decide whether it can\u001b[39;00m\n\u001b[0;32m    807\u001b[0m     \u001b[39m# take a fast or slow code path; so stop when t.total==t.n\u001b[39;00m\n\u001b[0;32m    808\u001b[0m     t\u001b[39m.\u001b[39mupdate(n\u001b[39m=\u001b[39m\u001b[39m1\u001b[39m \u001b[39mif\u001b[39;00m \u001b[39mnot\u001b[39;00m t\u001b[39m.\u001b[39mtotal \u001b[39mor\u001b[39;00m t\u001b[39m.\u001b[39mn \u001b[39m<\u001b[39m t\u001b[39m.\u001b[39mtotal \u001b[39melse\u001b[39;00m \u001b[39m0\u001b[39m)\n\u001b[1;32m--> 809\u001b[0m     \u001b[39mreturn\u001b[39;00m func(\u001b[39m*\u001b[39margs, \u001b[39m*\u001b[39m\u001b[39m*\u001b[39mkwargs)\n",
      "Cell \u001b[1;32mIn [31], line 6\u001b[0m, in \u001b[0;36mwrite_chunk\u001b[1;34m(x)\u001b[0m\n\u001b[0;32m      4\u001b[0m file_name \u001b[39m=\u001b[39m \u001b[39mf\u001b[39m\u001b[39m'\u001b[39m\u001b[39mrow-\u001b[39m\u001b[39m{\u001b[39;00mrow\u001b[39m}\u001b[39;00m\u001b[39m_sub-\u001b[39m\u001b[39m{\u001b[39;00msub\u001b[39m}\u001b[39;00m\u001b[39m_chunk-\u001b[39m\u001b[39m{\u001b[39;00mchunk\u001b[39m}\u001b[39;00m\u001b[39m_.txt\u001b[39m\u001b[39m'\u001b[39m\n\u001b[0;32m      5\u001b[0m file \u001b[39m=\u001b[39m os\u001b[39m.\u001b[39mpath\u001b[39m.\u001b[39mjoin(\u001b[39m'\u001b[39m\u001b[39mdata\u001b[39m\u001b[39m'\u001b[39m, \u001b[39m'\u001b[39m\u001b[39mmetamap\u001b[39m\u001b[39m'\u001b[39m, file_name)\n\u001b[1;32m----> 6\u001b[0m \u001b[39mwith\u001b[39;00m \u001b[39mopen\u001b[39;49m(file, \u001b[39m'\u001b[39;49m\u001b[39mw\u001b[39;49m\u001b[39m'\u001b[39;49m) \u001b[39mas\u001b[39;00m outfile:\n\u001b[0;32m      7\u001b[0m     outfile\u001b[39m.\u001b[39mwrite(text)\n",
      "File \u001b[1;32mc:\\Users\\aknof\\.conda\\envs\\bdproj310\\lib\\site-packages\\IPython\\core\\interactiveshell.py:282\u001b[0m, in \u001b[0;36m_modified_open\u001b[1;34m(file, *args, **kwargs)\u001b[0m\n\u001b[0;32m    275\u001b[0m \u001b[39mif\u001b[39;00m file \u001b[39min\u001b[39;00m {\u001b[39m0\u001b[39m, \u001b[39m1\u001b[39m, \u001b[39m2\u001b[39m}:\n\u001b[0;32m    276\u001b[0m     \u001b[39mraise\u001b[39;00m \u001b[39mValueError\u001b[39;00m(\n\u001b[0;32m    277\u001b[0m         \u001b[39mf\u001b[39m\u001b[39m\"\u001b[39m\u001b[39mIPython won\u001b[39m\u001b[39m'\u001b[39m\u001b[39mt let you open fd=\u001b[39m\u001b[39m{\u001b[39;00mfile\u001b[39m}\u001b[39;00m\u001b[39m by default \u001b[39m\u001b[39m\"\u001b[39m\n\u001b[0;32m    278\u001b[0m         \u001b[39m\"\u001b[39m\u001b[39mas it is likely to crash IPython. If you know what you are doing, \u001b[39m\u001b[39m\"\u001b[39m\n\u001b[0;32m    279\u001b[0m         \u001b[39m\"\u001b[39m\u001b[39myou can use builtins\u001b[39m\u001b[39m'\u001b[39m\u001b[39m open.\u001b[39m\u001b[39m\"\u001b[39m\n\u001b[0;32m    280\u001b[0m     )\n\u001b[1;32m--> 282\u001b[0m \u001b[39mreturn\u001b[39;00m io_open(file, \u001b[39m*\u001b[39margs, \u001b[39m*\u001b[39m\u001b[39m*\u001b[39mkwargs)\n",
      "File \u001b[1;32mc:\\Users\\aknof\\.conda\\envs\\bdproj310\\lib\\codecs.py:186\u001b[0m, in \u001b[0;36mIncrementalEncoder.__init__\u001b[1;34m(self, errors)\u001b[0m\n\u001b[0;32m    180\u001b[0m \u001b[39mclass\u001b[39;00m \u001b[39mIncrementalEncoder\u001b[39;00m(\u001b[39mobject\u001b[39m):\n\u001b[0;32m    181\u001b[0m     \u001b[39m\"\"\"\u001b[39;00m\n\u001b[0;32m    182\u001b[0m \u001b[39m    An IncrementalEncoder encodes an input in multiple steps. The input can\u001b[39;00m\n\u001b[0;32m    183\u001b[0m \u001b[39m    be passed piece by piece to the encode() method. The IncrementalEncoder\u001b[39;00m\n\u001b[0;32m    184\u001b[0m \u001b[39m    remembers the state of the encoding process between calls to encode().\u001b[39;00m\n\u001b[0;32m    185\u001b[0m \u001b[39m    \"\"\"\u001b[39;00m\n\u001b[1;32m--> 186\u001b[0m     \u001b[39mdef\u001b[39;00m \u001b[39m__init__\u001b[39m(\u001b[39mself\u001b[39m, errors\u001b[39m=\u001b[39m\u001b[39m'\u001b[39m\u001b[39mstrict\u001b[39m\u001b[39m'\u001b[39m):\n\u001b[0;32m    187\u001b[0m         \u001b[39m\"\"\"\u001b[39;00m\n\u001b[0;32m    188\u001b[0m \u001b[39m        Creates an IncrementalEncoder instance.\u001b[39;00m\n\u001b[0;32m    189\u001b[0m \n\u001b[1;32m   (...)\u001b[0m\n\u001b[0;32m    192\u001b[0m \u001b[39m        for a list of possible values.\u001b[39;00m\n\u001b[0;32m    193\u001b[0m \u001b[39m        \"\"\"\u001b[39;00m\n\u001b[0;32m    194\u001b[0m         \u001b[39mself\u001b[39m\u001b[39m.\u001b[39merrors \u001b[39m=\u001b[39m errors\n",
      "\u001b[1;31mKeyboardInterrupt\u001b[0m: "
     ]
    }
   ],
   "source": [
    "# df_split[['ROW_ID', 'SUBJECT_ID', 'chunk_num', 'chunk_text']].swifter.apply(write_chunk, axis=1)"
   ]
  }
 ],
 "metadata": {
  "kernelspec": {
   "display_name": "Python 3.10.6 ('bdproj310')",
   "language": "python",
   "name": "python3"
  },
  "language_info": {
   "codemirror_mode": {
    "name": "ipython",
    "version": 3
   },
   "file_extension": ".py",
   "mimetype": "text/x-python",
   "name": "python",
   "nbconvert_exporter": "python",
   "pygments_lexer": "ipython3",
   "version": "3.10.6"
  },
  "orig_nbformat": 4,
  "vscode": {
   "interpreter": {
    "hash": "5e0ae4837df7a7ea9078b7c2474737fb90767256bed16c5310b44bf5f06e513c"
   }
  }
 },
 "nbformat": 4,
 "nbformat_minor": 2
}
