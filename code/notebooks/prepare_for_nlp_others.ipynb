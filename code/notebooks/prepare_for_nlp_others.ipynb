{
 "cells": [
  {
   "cell_type": "code",
   "execution_count": 2,
   "metadata": {},
   "outputs": [],
   "source": [
    "import os\n",
    "\n",
    "import pandas as pd\n",
    "import duckdb"
   ]
  },
  {
   "cell_type": "code",
   "execution_count": 3,
   "metadata": {},
   "outputs": [
    {
     "name": "stdout",
     "output_type": "stream",
     "text": [
      "new working dir: c:\\Users\\aknof\\Documents\\GT\\CSE_6250_BD4H\\Project\\repo\n"
     ]
    }
   ],
   "source": [
    "for i in range(10):\n",
    "    cwd = os.getcwd()\n",
    "    r, c = os.path.split(cwd)\n",
    "    if c == 'repo':\n",
    "        print(f'new working dir: {cwd}')\n",
    "        break\n",
    "    os.chdir(r)"
   ]
  },
  {
   "cell_type": "code",
   "execution_count": 8,
   "metadata": {},
   "outputs": [
    {
     "name": "stderr",
     "output_type": "stream",
     "text": [
      "C:\\Users\\aknof\\AppData\\Local\\Temp\\ipykernel_10448\\876603029.py:2: DtypeWarning: Columns (4,5) have mixed types. Specify dtype option on import or set low_memory=False.\n",
      "  df = pd.read_csv(data_file)\n"
     ]
    },
    {
     "data": {
      "text/html": [
       "<div>\n",
       "<style scoped>\n",
       "    .dataframe tbody tr th:only-of-type {\n",
       "        vertical-align: middle;\n",
       "    }\n",
       "\n",
       "    .dataframe tbody tr th {\n",
       "        vertical-align: top;\n",
       "    }\n",
       "\n",
       "    .dataframe thead th {\n",
       "        text-align: right;\n",
       "    }\n",
       "</style>\n",
       "<table border=\"1\" class=\"dataframe\">\n",
       "  <thead>\n",
       "    <tr style=\"text-align: right;\">\n",
       "      <th></th>\n",
       "      <th>ROW_ID</th>\n",
       "      <th>SUBJECT_ID</th>\n",
       "      <th>HADM_ID</th>\n",
       "      <th>CHARTDATE</th>\n",
       "      <th>CHARTTIME</th>\n",
       "      <th>STORETIME</th>\n",
       "      <th>CATEGORY</th>\n",
       "      <th>DESCRIPTION</th>\n",
       "      <th>CGID</th>\n",
       "      <th>ISERROR</th>\n",
       "      <th>TEXT</th>\n",
       "    </tr>\n",
       "  </thead>\n",
       "  <tbody>\n",
       "    <tr>\n",
       "      <th>0</th>\n",
       "      <td>174</td>\n",
       "      <td>22532</td>\n",
       "      <td>167853.0</td>\n",
       "      <td>2151-08-04</td>\n",
       "      <td>NaN</td>\n",
       "      <td>NaN</td>\n",
       "      <td>Discharge summary</td>\n",
       "      <td>Report</td>\n",
       "      <td>NaN</td>\n",
       "      <td>NaN</td>\n",
       "      <td>Admission Date:  [**2151-7-16**]       Dischar...</td>\n",
       "    </tr>\n",
       "    <tr>\n",
       "      <th>1</th>\n",
       "      <td>175</td>\n",
       "      <td>13702</td>\n",
       "      <td>107527.0</td>\n",
       "      <td>2118-06-14</td>\n",
       "      <td>NaN</td>\n",
       "      <td>NaN</td>\n",
       "      <td>Discharge summary</td>\n",
       "      <td>Report</td>\n",
       "      <td>NaN</td>\n",
       "      <td>NaN</td>\n",
       "      <td>Admission Date:  [**2118-6-2**]       Discharg...</td>\n",
       "    </tr>\n",
       "    <tr>\n",
       "      <th>2</th>\n",
       "      <td>176</td>\n",
       "      <td>13702</td>\n",
       "      <td>167118.0</td>\n",
       "      <td>2119-05-25</td>\n",
       "      <td>NaN</td>\n",
       "      <td>NaN</td>\n",
       "      <td>Discharge summary</td>\n",
       "      <td>Report</td>\n",
       "      <td>NaN</td>\n",
       "      <td>NaN</td>\n",
       "      <td>Admission Date:  [**2119-5-4**]              D...</td>\n",
       "    </tr>\n",
       "    <tr>\n",
       "      <th>3</th>\n",
       "      <td>177</td>\n",
       "      <td>13702</td>\n",
       "      <td>196489.0</td>\n",
       "      <td>2124-08-18</td>\n",
       "      <td>NaN</td>\n",
       "      <td>NaN</td>\n",
       "      <td>Discharge summary</td>\n",
       "      <td>Report</td>\n",
       "      <td>NaN</td>\n",
       "      <td>NaN</td>\n",
       "      <td>Admission Date:  [**2124-7-21**]              ...</td>\n",
       "    </tr>\n",
       "    <tr>\n",
       "      <th>4</th>\n",
       "      <td>178</td>\n",
       "      <td>26880</td>\n",
       "      <td>135453.0</td>\n",
       "      <td>2162-03-25</td>\n",
       "      <td>NaN</td>\n",
       "      <td>NaN</td>\n",
       "      <td>Discharge summary</td>\n",
       "      <td>Report</td>\n",
       "      <td>NaN</td>\n",
       "      <td>NaN</td>\n",
       "      <td>Admission Date:  [**2162-3-3**]              D...</td>\n",
       "    </tr>\n",
       "  </tbody>\n",
       "</table>\n",
       "</div>"
      ],
      "text/plain": [
       "   ROW_ID  SUBJECT_ID   HADM_ID   CHARTDATE CHARTTIME STORETIME  \\\n",
       "0     174       22532  167853.0  2151-08-04       NaN       NaN   \n",
       "1     175       13702  107527.0  2118-06-14       NaN       NaN   \n",
       "2     176       13702  167118.0  2119-05-25       NaN       NaN   \n",
       "3     177       13702  196489.0  2124-08-18       NaN       NaN   \n",
       "4     178       26880  135453.0  2162-03-25       NaN       NaN   \n",
       "\n",
       "            CATEGORY DESCRIPTION  CGID  ISERROR  \\\n",
       "0  Discharge summary      Report   NaN      NaN   \n",
       "1  Discharge summary      Report   NaN      NaN   \n",
       "2  Discharge summary      Report   NaN      NaN   \n",
       "3  Discharge summary      Report   NaN      NaN   \n",
       "4  Discharge summary      Report   NaN      NaN   \n",
       "\n",
       "                                                TEXT  \n",
       "0  Admission Date:  [**2151-7-16**]       Dischar...  \n",
       "1  Admission Date:  [**2118-6-2**]       Discharg...  \n",
       "2  Admission Date:  [**2119-5-4**]              D...  \n",
       "3  Admission Date:  [**2124-7-21**]              ...  \n",
       "4  Admission Date:  [**2162-3-3**]              D...  "
      ]
     },
     "execution_count": 8,
     "metadata": {},
     "output_type": "execute_result"
    }
   ],
   "source": [
    "data_file = os.path.join('data', 'NOTEEVENTS.csv')\n",
    "df = pd.read_csv(data_file)\n",
    "df.head()"
   ]
  },
  {
   "cell_type": "code",
   "execution_count": 7,
   "metadata": {},
   "outputs": [
    {
     "data": {
      "text/plain": [
       "SUBJECT_ID     46146\n",
       "PATIENT_DOC    46146\n",
       "dtype: int64"
      ]
     },
     "execution_count": 7,
     "metadata": {},
     "output_type": "execute_result"
    }
   ],
   "source": [
    "agg_file = os.path.join('data', 'consumed', 'aggregate_note_events-pipe-header.csv')\n",
    "pd.read_csv(agg_file, sep='|').count()"
   ]
  },
  {
   "cell_type": "code",
   "execution_count": 3,
   "metadata": {},
   "outputs": [],
   "source": [
    "con = duckdb.connect()"
   ]
  },
  {
   "cell_type": "code",
   "execution_count": 8,
   "metadata": {},
   "outputs": [
    {
     "data": {
      "text/html": [
       "<div>\n",
       "<style scoped>\n",
       "    .dataframe tbody tr th:only-of-type {\n",
       "        vertical-align: middle;\n",
       "    }\n",
       "\n",
       "    .dataframe tbody tr th {\n",
       "        vertical-align: top;\n",
       "    }\n",
       "\n",
       "    .dataframe thead th {\n",
       "        text-align: right;\n",
       "    }\n",
       "</style>\n",
       "<table border=\"1\" class=\"dataframe\">\n",
       "  <thead>\n",
       "    <tr style=\"text-align: right;\">\n",
       "      <th></th>\n",
       "      <th>SUBJECT_ID</th>\n",
       "      <th>PATIENT_DOC</th>\n",
       "    </tr>\n",
       "  </thead>\n",
       "  <tbody>\n",
       "    <tr>\n",
       "      <th>0</th>\n",
       "      <td>4367</td>\n",
       "      <td>Sinus rhythm. Borderline left ventricular hype...</td>\n",
       "    </tr>\n",
       "    <tr>\n",
       "      <th>1</th>\n",
       "      <td>83395</td>\n",
       "      <td>Sinus tachycardia. Possible left atrial abnorm...</td>\n",
       "    </tr>\n",
       "    <tr>\n",
       "      <th>2</th>\n",
       "      <td>21740</td>\n",
       "      <td>Atrial fibrillation with a rapid ventricular r...</td>\n",
       "    </tr>\n",
       "    <tr>\n",
       "      <th>3</th>\n",
       "      <td>3995</td>\n",
       "      <td>Sinus rhythm\\nMultifocal PVCs\\nRight bundle br...</td>\n",
       "    </tr>\n",
       "    <tr>\n",
       "      <th>4</th>\n",
       "      <td>5680</td>\n",
       "      <td>Sinus rhythm. T wave inversions in leads I, aV...</td>\n",
       "    </tr>\n",
       "  </tbody>\n",
       "</table>\n",
       "</div>"
      ],
      "text/plain": [
       "   SUBJECT_ID                                        PATIENT_DOC\n",
       "0        4367  Sinus rhythm. Borderline left ventricular hype...\n",
       "1       83395  Sinus tachycardia. Possible left atrial abnorm...\n",
       "2       21740  Atrial fibrillation with a rapid ventricular r...\n",
       "3        3995  Sinus rhythm\\nMultifocal PVCs\\nRight bundle br...\n",
       "4        5680  Sinus rhythm. T wave inversions in leads I, aV..."
      ]
     },
     "execution_count": 8,
     "metadata": {},
     "output_type": "execute_result"
    }
   ],
   "source": [
    "df_agg = con.execute(\"\"\"\n",
    "select SUBJECT_ID\n",
    ",string_agg(TEXT, '\\n') as PATIENT_DOC\n",
    "from df\n",
    "group by SUBJECT_ID\n",
    "\"\"\").df()\n",
    "df_agg.head()"
   ]
  },
  {
   "cell_type": "code",
   "execution_count": 12,
   "metadata": {},
   "outputs": [],
   "source": [
    "for index, row in df_agg.iterrows():\n",
    "    ctakes_file = os.path.join('data', 'ctakes_in', f'pat-{row[\"SUBJECT_ID\"]}.txt')\n",
    "    with open(ctakes_file, 'w') as outfile:\n",
    "        _ = outfile.write(row['PATIENT_DOC'])"
   ]
  },
  {
   "cell_type": "code",
   "execution_count": 177,
   "metadata": {},
   "outputs": [],
   "source": [
    "import json\n",
    "from skr_web_api import Submission, METAMAP_INTERACTIVE_URL\n",
    "\n",
    "def metamap_nlp(inputtext, email, apikey, # add creds as default here\n",
    "                params='-I --JSONn --negex --conj'):\n",
    "    \n",
    "    inst = Submission(email, apikey)\n",
    "    inst.set_serviceurl(METAMAP_INTERACTIVE_URL)\n",
    "    inst.init_mm_interactive(inputtext, args=params)\n",
    "    response = inst.submit()\n",
    "    if response.status_code != '200':\n",
    "        print('response status: {}'.format(response.status_code))\n",
    "    content = format(response.content.decode())\n",
    "    try:\n",
    "        metadata, data = content.split('\\n', maxsplit=1)\n",
    "    except ValueError as e:\n",
    "        print(content.split('\\n'))\n",
    "        raise ValueError(e)\n",
    "    data = json.loads(data, strict=False)\n",
    "    data['metadata'] = metadata\n",
    "    return data"
   ]
  },
  {
   "cell_type": "code",
   "execution_count": 162,
   "metadata": {},
   "outputs": [],
   "source": [
    "# d['AllDocuments'][0]['Document']['Utterances'][0]['Phrases'][0]['Mappings'][0]['MappingCandidates'][0]['CandidateCUI']\n",
    "\n",
    "def parse_response(data):\n",
    "    # data = json.loads(data)\n",
    "    cuis = []\n",
    "    for d in data['AllDocuments']:\n",
    "        for p in d['Document']['Utterances']:\n",
    "            for m in p['Phrases']:\n",
    "                for mc in m['Mappings']:\n",
    "                    for cand in mc['MappingCandidates']:\n",
    "                        # print(cand)\n",
    "                        if 'CandidateCUI' in cand:\n",
    "                            # print(1)\n",
    "                            cui = cand['CandidateCUI']\n",
    "                            if cui not in cuis:\n",
    "                                cuis.append(cui)\n",
    "    return cuis"
   ]
  },
  {
   "cell_type": "code",
   "execution_count": 252,
   "metadata": {},
   "outputs": [],
   "source": [
    "def get_nlp(index, df=df, max_len=10000):\n",
    "    inputtext = df.loc[index, 'TEXT'].replace('\\n', ' ')\n",
    "    inputtext = ' '.join(inputtext.split())\n",
    "    # print(inputtext[:100])\n",
    "    pat = df.loc[index, 'SUBJECT_ID']\n",
    "    # MAX_LEN = 10000\n",
    "    # MAX_LEN = int(17228 / 80)\n",
    "    # MAX_LEN = 250\n",
    "    chars = len(inputtext)\n",
    "    chunks = chars // max_len\n",
    "    chunks = chunks if chunks == chars / max_len else chunks + 1\n",
    "    chunks = 1 if chunks == 0 else chunks\n",
    "    # print(f'chars={chars}, chunks={chunks}')\n",
    "    for c in range(chunks):\n",
    "        # print(f'chunk params: c={c}, cl={c*max_len}, cu={(c+1)*max_len}')\n",
    "        try:\n",
    "            data = metamap_nlp(inputtext[c*max_len:(c+1)*max_len])\n",
    "            raw_file = os.path.join('data', 'nlp_raw', f'index-{index}_patient-{pat}_chunk-{c}.json')\n",
    "            with open(raw_file, \"w\") as outfile:\n",
    "                json.dump(data, outfile)\n",
    "        except:\n",
    "            print(f'failure at index={index}, chunk={c}')\n",
    "            return c\n"
   ]
  },
  {
   "cell_type": "code",
   "execution_count": 210,
   "metadata": {},
   "outputs": [
    {
     "data": {
      "text/plain": [
       "'Admission Date:  [**2194-7-18**]              Discharge Date:   [**2194-7-25**]  Date of Birth:  [**'"
      ]
     },
     "execution_count": 210,
     "metadata": {},
     "output_type": "execute_result"
    }
   ],
   "source": [
    "# df.loc[17, 'TEXT'][1722:3444]\n",
    "# df.loc[17, 'TEXT'][2583:3444]\n",
    "# df.loc[17, 'TEXT'][2580:3010]\n",
    "df.loc[17, 'TEXT'].replace('\\n', ' ')[:100]"
   ]
  },
  {
   "cell_type": "code",
   "execution_count": 228,
   "metadata": {},
   "outputs": [
    {
     "name": "stdout",
     "output_type": "stream",
     "text": [
      "Admission Date: [**2194-7-18**] Discharge Date: [**2194-7-25**] Date of Birth: [**2123-12-24**] Sex:\n",
      "chars=17065, chunks=2\n",
      "chunk params: c=0, cl=0, cu=10000\n",
      "chunk params: c=1, cl=10000, cu=20000\n",
      "response status: 200\n"
     ]
    }
   ],
   "source": [
    "get_nlp(index=17)"
   ]
  },
  {
   "cell_type": "code",
   "execution_count": 245,
   "metadata": {},
   "outputs": [],
   "source": [
    "from datetime import datetime\n",
    "\n",
    "def write_exception(index, chunk):\n",
    "    exc_file = os.path.join('data', 'consumed', 'failed.json')\n",
    "\n",
    "    if os.path.isfile(exc_file):\n",
    "        with open(exc_file, 'r') as infile:\n",
    "            exc_json = json.load(infile)\n",
    "    else:\n",
    "        exc_json = {'failed': []}\n",
    "\n",
    "    fail = {'index': index, 'at_chunk': chunk, 'ts': datetime.now().strftime('%Y-%m-%d %H:%M:%S')}    \n",
    "    exc_json['failed'].append(fail)\n",
    "\n",
    "    with open(exc_file, 'w') as outfile:\n",
    "        json.dump(exc_json, outfile)\n",
    "        "
   ]
  },
  {
   "cell_type": "code",
   "execution_count": 253,
   "metadata": {},
   "outputs": [
    {
     "name": "stdout",
     "output_type": "stream",
     "text": [
      "failure at index=17, chunk=0\n",
      "response status: 200\n",
      "response status: 200\n",
      "response status: 200\n",
      "response status: 200\n",
      "failure at index=21, chunk=0\n",
      "response status: 200\n",
      "response status: 200\n",
      "response status: 200\n",
      "response status: 200\n",
      "response status: 200\n",
      "response status: 200\n",
      "response status: 200\n",
      "response status: 200\n",
      "failure at index=25, chunk=1\n",
      "response status: 200\n",
      "failure at index=26, chunk=0\n",
      "response status: 200\n",
      "response status: 200\n",
      "response status: 200\n",
      "response status: 200\n",
      "response status: 200\n",
      "response status: 200\n",
      "response status: 200\n",
      "response status: 200\n",
      "response status: 200\n",
      "response status: 200\n",
      "response status: 200\n",
      "response status: 200\n",
      "response status: 200\n",
      "response status: 200\n",
      "response status: 200\n",
      "response status: 200\n",
      "response status: 200\n",
      "failure at index=39, chunk=0\n",
      "response status: 200\n",
      "response status: 200\n",
      "response status: 200\n",
      "response status: 200\n",
      "response status: 200\n",
      "response status: 200\n",
      "response status: 200\n",
      "response status: 200\n",
      "response status: 200\n",
      "response status: 200\n",
      "response status: 200\n",
      "failure at index=48, chunk=0\n",
      "response status: 200\n",
      "failure at index=50, chunk=0\n",
      "response status: 200\n",
      "response status: 200\n",
      "response status: 200\n",
      "response status: 200\n",
      "response status: 200\n",
      "response status: 200\n",
      "response status: 200\n",
      "response status: 200\n",
      "response status: 200\n",
      "response status: 200\n",
      "response status: 200\n",
      "failure at index=58, chunk=0\n",
      "response status: 200\n",
      "response status: 200\n",
      "response status: 200\n",
      "response status: 200\n",
      "response status: 200\n",
      "response status: 200\n",
      "response status: 200\n",
      "response status: 200\n",
      "response status: 200\n",
      "response status: 200\n",
      "response status: 200\n",
      "response status: 200\n",
      "response status: 200\n",
      "response status: 200\n",
      "response status: 200\n",
      "response status: 200\n",
      "response status: 200\n",
      "response status: 200\n",
      "response status: 200\n",
      "response status: 200\n",
      "response status: 200\n",
      "response status: 200\n",
      "response status: 200\n",
      "response status: 200\n",
      "response status: 200\n",
      "response status: 200\n",
      "response status: 200\n",
      "response status: 200\n",
      "response status: 200\n",
      "response status: 200\n",
      "response status: 200\n",
      "response status: 200\n",
      "failure at index=80, chunk=0\n",
      "response status: 200\n",
      "response status: 200\n",
      "response status: 200\n",
      "response status: 200\n",
      "response status: 200\n",
      "response status: 200\n",
      "response status: 200\n",
      "response status: 200\n",
      "response status: 200\n",
      "response status: 200\n",
      "response status: 200\n",
      "response status: 200\n",
      "response status: 200\n",
      "response status: 200\n",
      "response status: 200\n",
      "response status: 200\n",
      "response status: 200\n",
      "response status: 200\n",
      "response status: 200\n",
      "response status: 200\n",
      "failure at index=95, chunk=0\n",
      "response status: 200\n",
      "response status: 200\n",
      "response status: 200\n",
      "response status: 200\n",
      "failure at index=99, chunk=0\n",
      "response status: 200\n",
      "response status: 200\n",
      "response status: 200\n",
      "failure at index=102, chunk=0\n"
     ]
    }
   ],
   "source": [
    "# from collections import defaultdict\n",
    "# from uuid import uuid4\n",
    "# import numpy as np\n",
    "\n",
    "# patient_cuis = defaultdict(list)\n",
    "\n",
    "for index, row in df.iloc[17:].iterrows():\n",
    "    chunk = get_nlp(index=index)\n",
    "    if chunk is not None:\n",
    "        write_exception(index, chunk)\n",
    "\n",
    "        # todo: rolling window chunks"
   ]
  },
  {
   "cell_type": "code",
   "execution_count": null,
   "metadata": {},
   "outputs": [],
   "source": [
    "from collections import defaultdict\n",
    "# from uuid import uuid4\n",
    "import numpy as np\n",
    "\n",
    "patient_cuis = defaultdict(list)\n",
    "\n",
    "# todo: parse raw files \n",
    "\n",
    "# cuis = np.array(parse_response(data)).flatten()\n",
    "#         try:\n",
    "#             patient_cuis[pat] = np.unique(np.append(cuis, np.array(patient_cuis[pat]).flatten())).tolist()\n",
    "#         except TypeError as e:\n",
    "#             print(patient_cuis[pat])\n",
    "#             print(cuis)\n",
    "#             raise TypeError(e)"
   ]
  },
  {
   "cell_type": "code",
   "execution_count": null,
   "metadata": {},
   "outputs": [],
   "source": [
    "patient_cui_file = os.path.join('data', 'consumed', 'patient_cuis.json')\n",
    "with open(patient_cui_file, \"w\") as outfile:\n",
    "    json.dump(patient_cuis, outfile)"
   ]
  },
  {
   "cell_type": "code",
   "execution_count": null,
   "metadata": {},
   "outputs": [],
   "source": [
    "!C:\\Users\\aknof\\Documents\\GT\\CSE_6250_BD4H\\Project\\repo\\code\\ctakes-scut-admin.lnk"
   ]
  }
 ],
 "metadata": {
  "kernelspec": {
   "display_name": "Python 3.10.6 ('bdproj310')",
   "language": "python",
   "name": "python3"
  },
  "language_info": {
   "codemirror_mode": {
    "name": "ipython",
    "version": 3
   },
   "file_extension": ".py",
   "mimetype": "text/x-python",
   "name": "python",
   "nbconvert_exporter": "python",
   "pygments_lexer": "ipython3",
   "version": "3.10.6"
  },
  "orig_nbformat": 4,
  "vscode": {
   "interpreter": {
    "hash": "5e0ae4837df7a7ea9078b7c2474737fb90767256bed16c5310b44bf5f06e513c"
   }
  }
 },
 "nbformat": 4,
 "nbformat_minor": 2
}
