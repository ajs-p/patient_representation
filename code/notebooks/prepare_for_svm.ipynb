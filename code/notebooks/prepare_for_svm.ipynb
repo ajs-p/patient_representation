{
 "cells": [
  {
   "cell_type": "code",
   "execution_count": 2,
   "metadata": {},
   "outputs": [],
   "source": [
    "import os\n",
    "import xml.etree.ElementTree as ET\n",
    "import pandas as pd\n"
   ]
  },
  {
   "cell_type": "code",
   "execution_count": 3,
   "metadata": {},
   "outputs": [
    {
     "name": "stdout",
     "output_type": "stream",
     "text": [
      "new working dir: c:\\Users\\aknof\\Documents\\GT\\CSE_6250_BD4H\\Project\\repo\n"
     ]
    }
   ],
   "source": [
    "for i in range(10):\n",
    "    cwd = os.getcwd()\n",
    "    r, c = os.path.split(cwd)\n",
    "    if c == 'repo':\n",
    "        print(f'new working dir: {cwd}')\n",
    "        break\n",
    "    os.chdir(r)"
   ]
  },
  {
   "cell_type": "code",
   "execution_count": 5,
   "metadata": {},
   "outputs": [],
   "source": [
    "tree = ET.parse(os.path.join('data', 'i2b2', 'obesity_patient_records_test.xml'))\n",
    "root = tree.getroot()\n",
    "\n",
    "# todo: parse tree"
   ]
  }
 ],
 "metadata": {
  "kernelspec": {
   "display_name": "Python 3.10.6 ('bdproj310')",
   "language": "python",
   "name": "python3"
  },
  "language_info": {
   "codemirror_mode": {
    "name": "ipython",
    "version": 3
   },
   "file_extension": ".py",
   "mimetype": "text/x-python",
   "name": "python",
   "nbconvert_exporter": "python",
   "pygments_lexer": "ipython3",
   "version": "3.10.6"
  },
  "orig_nbformat": 4,
  "vscode": {
   "interpreter": {
    "hash": "5e0ae4837df7a7ea9078b7c2474737fb90767256bed16c5310b44bf5f06e513c"
   }
  }
 },
 "nbformat": 4,
 "nbformat_minor": 2
}
