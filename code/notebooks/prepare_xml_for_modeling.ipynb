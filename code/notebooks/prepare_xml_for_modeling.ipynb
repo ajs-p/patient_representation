{
 "cells": [
  {
   "cell_type": "code",
   "execution_count": 180,
   "metadata": {},
   "outputs": [],
   "source": [
    "import os, json\n",
    "\n",
    "import xmltodict\n",
    "import pandas as pd\n",
    "\n",
    "import duckdb\n",
    "import swifter"
   ]
  },
  {
   "cell_type": "code",
   "execution_count": 181,
   "metadata": {},
   "outputs": [],
   "source": [
    "con = duckdb.connect()"
   ]
  },
  {
   "cell_type": "code",
   "execution_count": 182,
   "metadata": {},
   "outputs": [
    {
     "name": "stdout",
     "output_type": "stream",
     "text": [
      "new working dir: c:\\Users\\aknof\\Documents\\GT\\CSE_6250_BD4H\\Project\\repo\n"
     ]
    }
   ],
   "source": [
    "for i in range(10):\n",
    "    cwd = os.getcwd()\n",
    "    r, c = os.path.split(cwd)\n",
    "    if c == 'repo':\n",
    "        print(f'new working dir: {cwd}')\n",
    "        break\n",
    "    os.chdir(r)"
   ]
  },
  {
   "cell_type": "code",
   "execution_count": 183,
   "metadata": {},
   "outputs": [],
   "source": [
    "def default_concat(dfm, dfi):\n",
    "    if dfm is None:\n",
    "        dfm = dfi\n",
    "    else: \n",
    "        dfm = pd.concat([dfm, dfi])\n",
    "    return dfm\n",
    "\n",
    "def default_list(obj):\n",
    "    if type(obj) == dict:\n",
    "        obj = [obj]\n",
    "    return obj"
   ]
  },
  {
   "cell_type": "code",
   "execution_count": 184,
   "metadata": {},
   "outputs": [],
   "source": [
    "def parse_xml_dict_to_df(xdict, source_file):\n",
    "    split = 'training' if 'training' in source_file else 'test'\n",
    "    col_map = {'@id': 'id'}\n",
    "\n",
    "    if 'annotations' in source_file:\n",
    "        col_map['@judgment'] = 'judgment'\n",
    "        new_root = xdict['diseaseset']['diseases']\n",
    "        df = None\n",
    "        new_root = default_list(new_root)\n",
    "        for s in new_root:\n",
    "            diseases_df = None\n",
    "            sd = s['disease']\n",
    "            sd = default_list(sd)\n",
    "            for di in sd:\n",
    "                doc = di['doc']\n",
    "                doc = default_list(doc)\n",
    "                disease_df = pd.DataFrame(doc)\n",
    "                disease_df['disease_name'] = di['@name']\n",
    "\n",
    "                diseases_df = default_concat(diseases_df, disease_df)\n",
    "            diseases_df['source_type'] = s['@source']\n",
    "            df = default_concat(df, diseases_df)\n",
    "\n",
    "    else:\n",
    "        new_root = xdict['root']['docs']['doc']\n",
    "        df = pd.DataFrame(new_root)\n",
    "        \n",
    "    df = df.rename(columns = col_map).reset_index()\n",
    "    df = df.drop(columns = ['index'])\n",
    "    df['split'] = split\n",
    "    df['source_file'] = source_file\n",
    "    return df"
   ]
  },
  {
   "cell_type": "code",
   "execution_count": 185,
   "metadata": {},
   "outputs": [
    {
     "data": {
      "text/html": [
       "<div>\n",
       "<style scoped>\n",
       "    .dataframe tbody tr th:only-of-type {\n",
       "        vertical-align: middle;\n",
       "    }\n",
       "\n",
       "    .dataframe tbody tr th {\n",
       "        vertical-align: top;\n",
       "    }\n",
       "\n",
       "    .dataframe thead th {\n",
       "        text-align: right;\n",
       "    }\n",
       "</style>\n",
       "<table border=\"1\" class=\"dataframe\">\n",
       "  <thead>\n",
       "    <tr style=\"text-align: right;\">\n",
       "      <th></th>\n",
       "      <th>id</th>\n",
       "      <th>judgment</th>\n",
       "      <th>disease_name</th>\n",
       "      <th>source_type</th>\n",
       "      <th>split</th>\n",
       "      <th>source_file</th>\n",
       "    </tr>\n",
       "  </thead>\n",
       "  <tbody>\n",
       "    <tr>\n",
       "      <th>0</th>\n",
       "      <td>708</td>\n",
       "      <td>N</td>\n",
       "      <td>Asthma</td>\n",
       "      <td>textual</td>\n",
       "      <td>training</td>\n",
       "      <td>obesity_standoff_annotations_training_addendum...</td>\n",
       "    </tr>\n",
       "    <tr>\n",
       "      <th>1</th>\n",
       "      <td>1226</td>\n",
       "      <td>Y</td>\n",
       "      <td>Asthma</td>\n",
       "      <td>textual</td>\n",
       "      <td>training</td>\n",
       "      <td>obesity_standoff_annotations_training_addendum...</td>\n",
       "    </tr>\n",
       "    <tr>\n",
       "      <th>2</th>\n",
       "      <td>1244</td>\n",
       "      <td>Y</td>\n",
       "      <td>Asthma</td>\n",
       "      <td>textual</td>\n",
       "      <td>training</td>\n",
       "      <td>obesity_standoff_annotations_training_addendum...</td>\n",
       "    </tr>\n",
       "    <tr>\n",
       "      <th>3</th>\n",
       "      <td>1246</td>\n",
       "      <td>Q</td>\n",
       "      <td>Asthma</td>\n",
       "      <td>textual</td>\n",
       "      <td>training</td>\n",
       "      <td>obesity_standoff_annotations_training_addendum...</td>\n",
       "    </tr>\n",
       "    <tr>\n",
       "      <th>4</th>\n",
       "      <td>673</td>\n",
       "      <td>N</td>\n",
       "      <td>CAD</td>\n",
       "      <td>textual</td>\n",
       "      <td>training</td>\n",
       "      <td>obesity_standoff_annotations_training_addendum...</td>\n",
       "    </tr>\n",
       "    <tr>\n",
       "      <th>...</th>\n",
       "      <td>...</td>\n",
       "      <td>...</td>\n",
       "      <td>...</td>\n",
       "      <td>...</td>\n",
       "      <td>...</td>\n",
       "      <td>...</td>\n",
       "    </tr>\n",
       "    <tr>\n",
       "      <th>73</th>\n",
       "      <td>1149</td>\n",
       "      <td>Y</td>\n",
       "      <td>OSA</td>\n",
       "      <td>textual</td>\n",
       "      <td>training</td>\n",
       "      <td>obesity_standoff_annotations_training_addendum...</td>\n",
       "    </tr>\n",
       "    <tr>\n",
       "      <th>74</th>\n",
       "      <td>719</td>\n",
       "      <td>Y</td>\n",
       "      <td>PVD</td>\n",
       "      <td>textual</td>\n",
       "      <td>training</td>\n",
       "      <td>obesity_standoff_annotations_training_addendum...</td>\n",
       "    </tr>\n",
       "    <tr>\n",
       "      <th>75</th>\n",
       "      <td>673</td>\n",
       "      <td>Y</td>\n",
       "      <td>Venous Insufficiency</td>\n",
       "      <td>textual</td>\n",
       "      <td>training</td>\n",
       "      <td>obesity_standoff_annotations_training_addendum...</td>\n",
       "    </tr>\n",
       "    <tr>\n",
       "      <th>76</th>\n",
       "      <td>712</td>\n",
       "      <td>Y</td>\n",
       "      <td>Venous Insufficiency</td>\n",
       "      <td>textual</td>\n",
       "      <td>training</td>\n",
       "      <td>obesity_standoff_annotations_training_addendum...</td>\n",
       "    </tr>\n",
       "    <tr>\n",
       "      <th>77</th>\n",
       "      <td>941</td>\n",
       "      <td>Y</td>\n",
       "      <td>Venous Insufficiency</td>\n",
       "      <td>textual</td>\n",
       "      <td>training</td>\n",
       "      <td>obesity_standoff_annotations_training_addendum...</td>\n",
       "    </tr>\n",
       "  </tbody>\n",
       "</table>\n",
       "<p>78 rows × 6 columns</p>\n",
       "</div>"
      ],
      "text/plain": [
       "      id judgment          disease_name source_type     split  \\\n",
       "0    708        N                Asthma     textual  training   \n",
       "1   1226        Y                Asthma     textual  training   \n",
       "2   1244        Y                Asthma     textual  training   \n",
       "3   1246        Q                Asthma     textual  training   \n",
       "4    673        N                   CAD     textual  training   \n",
       "..   ...      ...                   ...         ...       ...   \n",
       "73  1149        Y                   OSA     textual  training   \n",
       "74   719        Y                   PVD     textual  training   \n",
       "75   673        Y  Venous Insufficiency     textual  training   \n",
       "76   712        Y  Venous Insufficiency     textual  training   \n",
       "77   941        Y  Venous Insufficiency     textual  training   \n",
       "\n",
       "                                          source_file  \n",
       "0   obesity_standoff_annotations_training_addendum...  \n",
       "1   obesity_standoff_annotations_training_addendum...  \n",
       "2   obesity_standoff_annotations_training_addendum...  \n",
       "3   obesity_standoff_annotations_training_addendum...  \n",
       "4   obesity_standoff_annotations_training_addendum...  \n",
       "..                                                ...  \n",
       "73  obesity_standoff_annotations_training_addendum...  \n",
       "74  obesity_standoff_annotations_training_addendum...  \n",
       "75  obesity_standoff_annotations_training_addendum...  \n",
       "76  obesity_standoff_annotations_training_addendum...  \n",
       "77  obesity_standoff_annotations_training_addendum...  \n",
       "\n",
       "[78 rows x 6 columns]"
      ]
     },
     "execution_count": 185,
     "metadata": {},
     "output_type": "execute_result"
    }
   ],
   "source": [
    "tf = 'obesity_standoff_annotations_training_addendum2.xml'\n",
    "# tf = 'obesity_standoff_annotations_test.xml'\n",
    "dir = os.path.join('data', 'i2b2')\n",
    "with open(os.path.join(dir, tf)) as in_file:\n",
    "    xml = in_file.read()\n",
    "xdict = xmltodict.parse(xml)\n",
    "parse_xml_dict_to_df(xdict, tf)"
   ]
  },
  {
   "cell_type": "code",
   "execution_count": 186,
   "metadata": {},
   "outputs": [
    {
     "name": "stdout",
     "output_type": "stream",
     "text": [
      "success, 9:\n",
      "['obesity_patient_records_test.xml', 'obesity_patient_records_training.xml', 'obesity_patient_records_training2.xml', 'obesity_standoff_annotations_test.xml', 'obesity_standoff_annotations_training_addendum.xml', 'obesity_standoff_annotations_training_addendum2.xml', 'obesity_standoff_annotations_training_addendum3.xml', 'obesity_standoff_intuitive_annotations_training.xml', 'obesity_standoff_textual_annotations_training.xml']\n"
     ]
    }
   ],
   "source": [
    "# tf = 'obesity_standoff_annotations_test.xml'\n",
    "# tf = 'obesity_standoff_annotations_test_intuitive.xml'\n",
    "# tf = 'obesity_standoff_annotations_training_addendum.xml'\n",
    "success, fail, = [], []\n",
    "for tf in os.listdir(os.path.join('data', 'i2b2')):\n",
    "    if tf.split('.')[-1] != 'xml':\n",
    "        continue\n",
    "    with open(os.path.join(dir, tf)) as in_file:\n",
    "        xml = in_file.read()\n",
    "    xdict = xmltodict.parse(xml)\n",
    "    try:\n",
    "        parse_xml_dict_to_df(xdict, tf)\n",
    "        success.append(tf)\n",
    "    except Exception as e:\n",
    "        fail.append(tf)\n",
    "        print(f'{\"-\"*50}\\n{tf}:\\n{e}')\n",
    "\n",
    "print(f'success, {len(success)}:\\n{success}')\n",
    "# print(f'fail, {len(fail)}:\\n{fail}')"
   ]
  },
  {
   "cell_type": "code",
   "execution_count": 187,
   "metadata": {},
   "outputs": [
    {
     "data": {
      "text/plain": [
       "(id             1237\n",
       " text           1237\n",
       " split          1237\n",
       " source_file    1237\n",
       " dtype: int64,\n",
       " id              37728\n",
       " judgment        37728\n",
       " disease_name    37728\n",
       " source_type     37728\n",
       " split           37728\n",
       " source_file     37728\n",
       " dtype: int64)"
      ]
     },
     "execution_count": 187,
     "metadata": {},
     "output_type": "execute_result"
    }
   ],
   "source": [
    "records_df, annotations_df = None, None\n",
    "dir = os.path.join('data', 'i2b2')\n",
    "\n",
    "for f in os.listdir(dir):\n",
    "    if f.split('.')[-1] != 'xml':\n",
    "        continue\n",
    "    with open(os.path.join(dir, f)) as in_file:\n",
    "        xml = in_file.read()\n",
    "    xdict = xmltodict.parse(xml)\n",
    "    try:\n",
    "        df = parse_xml_dict_to_df(xdict, f)\n",
    "    except TypeError as e:\n",
    "        print(f)\n",
    "        raise TypeError(e)\n",
    "    if 'annotations' in f:\n",
    "        annotations_df = default_concat(annotations_df, df)\n",
    "    else:\n",
    "        records_df = default_concat(records_df, df)\n",
    "\n",
    "records_df.count(), annotations_df.count()"
   ]
  },
  {
   "cell_type": "code",
   "execution_count": 176,
   "metadata": {},
   "outputs": [],
   "source": [
    "save_dir = os.path.join('data', 'consumed')\n",
    "records_df.to_csv(os.path.join(save_dir, 'i2b2_patient_records.csv'), index_label='index')\n",
    "annotations_df.to_csv(os.path.join(save_dir, 'i2b2_patient-svm_targets.csv'), index_label='index')\n"
   ]
  },
  {
   "cell_type": "code",
   "execution_count": 163,
   "metadata": {},
   "outputs": [
    {
     "data": {
      "text/html": [
       "<div>\n",
       "<style scoped>\n",
       "    .dataframe tbody tr th:only-of-type {\n",
       "        vertical-align: middle;\n",
       "    }\n",
       "\n",
       "    .dataframe tbody tr th {\n",
       "        vertical-align: top;\n",
       "    }\n",
       "\n",
       "    .dataframe thead th {\n",
       "        text-align: right;\n",
       "    }\n",
       "</style>\n",
       "<table border=\"1\" class=\"dataframe\">\n",
       "  <thead>\n",
       "    <tr style=\"text-align: right;\">\n",
       "      <th></th>\n",
       "      <th>count_star()</th>\n",
       "    </tr>\n",
       "  </thead>\n",
       "  <tbody>\n",
       "    <tr>\n",
       "      <th>0</th>\n",
       "      <td>173</td>\n",
       "    </tr>\n",
       "  </tbody>\n",
       "</table>\n",
       "</div>"
      ],
      "text/plain": [
       "   count_star()\n",
       "0           173"
      ]
     },
     "execution_count": 163,
     "metadata": {},
     "output_type": "execute_result"
    }
   ],
   "source": [
    "con.execute(\"\"\"\n",
    "select count(*)\n",
    "from records_df\n",
    "where len(text) > 10000\n",
    "limit 1\n",
    "\"\"\").df()"
   ]
  },
  {
   "cell_type": "code",
   "execution_count": 188,
   "metadata": {},
   "outputs": [],
   "source": [
    "sql_chunk = \"\"\"\n",
    "{union}\n",
    "select id\n",
    ", {chunk_num} as chunk_num\n",
    ", substring(text, chunk_window * {chunk_num}, 10000) as chunk_text\n",
    ", split\n",
    ", source_file\n",
    "from par\n",
    "where num_ch > {chunk_num}\n",
    "\"\"\""
   ]
  },
  {
   "cell_type": "code",
   "execution_count": 191,
   "metadata": {},
   "outputs": [
    {
     "data": {
      "text/html": [
       "<div>\n",
       "<style scoped>\n",
       "    .dataframe tbody tr th:only-of-type {\n",
       "        vertical-align: middle;\n",
       "    }\n",
       "\n",
       "    .dataframe tbody tr th {\n",
       "        vertical-align: top;\n",
       "    }\n",
       "\n",
       "    .dataframe thead th {\n",
       "        text-align: right;\n",
       "    }\n",
       "</style>\n",
       "<table border=\"1\" class=\"dataframe\">\n",
       "  <thead>\n",
       "    <tr style=\"text-align: right;\">\n",
       "      <th></th>\n",
       "      <th>ROW_ID</th>\n",
       "      <th>SUBJECT_ID</th>\n",
       "      <th>chunk_num</th>\n",
       "      <th>chunk_text</th>\n",
       "      <th>split</th>\n",
       "      <th>source_file</th>\n",
       "    </tr>\n",
       "  </thead>\n",
       "  <tbody>\n",
       "    <tr>\n",
       "      <th>0</th>\n",
       "      <td>0</td>\n",
       "      <td>3</td>\n",
       "      <td>0</td>\n",
       "      <td>470971328 | AECH | 09071283 | | 6159055 | 5/26...</td>\n",
       "      <td>test</td>\n",
       "      <td>obesity_patient_records_test.xml</td>\n",
       "    </tr>\n",
       "    <tr>\n",
       "      <th>1</th>\n",
       "      <td>1</td>\n",
       "      <td>5</td>\n",
       "      <td>0</td>\n",
       "      <td>508283935 | KFM | 67491508 | | 9707967 | 9/25/...</td>\n",
       "      <td>test</td>\n",
       "      <td>obesity_patient_records_test.xml</td>\n",
       "    </tr>\n",
       "    <tr>\n",
       "      <th>2</th>\n",
       "      <td>2</td>\n",
       "      <td>7</td>\n",
       "      <td>0</td>\n",
       "      <td>248652055 | CM | 07563073 | | 5027467 | 8/29/2...</td>\n",
       "      <td>test</td>\n",
       "      <td>obesity_patient_records_test.xml</td>\n",
       "    </tr>\n",
       "    <tr>\n",
       "      <th>3</th>\n",
       "      <td>3</td>\n",
       "      <td>8</td>\n",
       "      <td>0</td>\n",
       "      <td>052907410 | FTH | 50999409 | | 7815179 | 10/6/...</td>\n",
       "      <td>test</td>\n",
       "      <td>obesity_patient_records_test.xml</td>\n",
       "    </tr>\n",
       "    <tr>\n",
       "      <th>4</th>\n",
       "      <td>4</td>\n",
       "      <td>9</td>\n",
       "      <td>0</td>\n",
       "      <td>628477951 | MBCH | 30737210 | | 5713924 | 12/1...</td>\n",
       "      <td>test</td>\n",
       "      <td>obesity_patient_records_test.xml</td>\n",
       "    </tr>\n",
       "  </tbody>\n",
       "</table>\n",
       "</div>"
      ],
      "text/plain": [
       "   ROW_ID SUBJECT_ID  chunk_num  \\\n",
       "0       0          3          0   \n",
       "1       1          5          0   \n",
       "2       2          7          0   \n",
       "3       3          8          0   \n",
       "4       4          9          0   \n",
       "\n",
       "                                          chunk_text split  \\\n",
       "0  470971328 | AECH | 09071283 | | 6159055 | 5/26...  test   \n",
       "1  508283935 | KFM | 67491508 | | 9707967 | 9/25/...  test   \n",
       "2  248652055 | CM | 07563073 | | 5027467 | 8/29/2...  test   \n",
       "3  052907410 | FTH | 50999409 | | 7815179 | 10/6/...  test   \n",
       "4  628477951 | MBCH | 30737210 | | 5713924 | 12/1...  test   \n",
       "\n",
       "                        source_file  \n",
       "0  obesity_patient_records_test.xml  \n",
       "1  obesity_patient_records_test.xml  \n",
       "2  obesity_patient_records_test.xml  \n",
       "3  obesity_patient_records_test.xml  \n",
       "4  obesity_patient_records_test.xml  "
      ]
     },
     "execution_count": 191,
     "metadata": {},
     "output_type": "execute_result"
    }
   ],
   "source": [
    "df_split = con.execute(f\"\"\"\n",
    "with input as (\n",
    "select * , len(text) as lt\n",
    "from records_df\n",
    ")\n",
    ",par as (\n",
    "select id\n",
    ", len(text) lt\n",
    ", cast(lt / 10000 as int) + 1 num_ch\n",
    ", lt / cast(cast(lt / 10000 as int) + 1 as int) chunk_window\n",
    ", text\n",
    ", split\n",
    ", source_file\n",
    "from input\n",
    ")\n",
    "{sql_chunk.format(union='', chunk_num=0)}\n",
    "{sql_chunk.format(union='union all', chunk_num=1)}\n",
    "{sql_chunk.format(union='union all', chunk_num=2)}\n",
    "\"\"\").df().reset_index()\n",
    "df_split = df_split.rename(columns={'index': 'ROW_ID', 'id': 'SUBJECT_ID'})\n",
    "df_split.head()"
   ]
  },
  {
   "cell_type": "code",
   "execution_count": 192,
   "metadata": {},
   "outputs": [],
   "source": [
    "df_split[['ROW_ID', 'SUBJECT_ID', 'chunk_num', 'chunk_text']].to_json( \\\n",
    "    os.path.join('data', 'consumed', 'metamap_input_i2b2.json'), orient='records')"
   ]
  },
  {
   "cell_type": "code",
   "execution_count": 194,
   "metadata": {},
   "outputs": [
    {
     "data": {
      "text/plain": [
       "ROW_ID         1414\n",
       "SUBJECT_ID     1414\n",
       "chunk_num      1414\n",
       "chunk_text     1414\n",
       "split          1414\n",
       "source_file    1414\n",
       "dtype: int64"
      ]
     },
     "execution_count": 194,
     "metadata": {},
     "output_type": "execute_result"
    }
   ],
   "source": [
    "df_split.count()"
   ]
  },
  {
   "cell_type": "code",
   "execution_count": 175,
   "metadata": {},
   "outputs": [],
   "source": [
    "df_split.to_csv(os.path.join(save_dir, 'i2b2_patient-nlp_input.csv'), index=False)"
   ]
  },
  {
   "cell_type": "code",
   "execution_count": 178,
   "metadata": {},
   "outputs": [],
   "source": [
    "def write_chunk(x):\n",
    "    # print(x)\n",
    "    index, id, chunk_num, chunk_text = x\n",
    "    if index=='index':\n",
    "        pass\n",
    "    else:\n",
    "        file_name = f'index-{index}_id-{id}_chunk-{chunk_num}_.txt'\n",
    "        file = os.path.join('data', 'i2b2_metamap', file_name)\n",
    "        with open(file, 'w') as outfile:\n",
    "            outfile.write(chunk_text)"
   ]
  },
  {
   "cell_type": "code",
   "execution_count": 179,
   "metadata": {},
   "outputs": [
    {
     "data": {
      "application/vnd.jupyter.widget-view+json": {
       "model_id": "54927a9135c5487e8a609286299d9321",
       "version_major": 2,
       "version_minor": 0
      },
      "text/plain": [
       "Pandas Apply:   0%|          | 0/1414 [00:00<?, ?it/s]"
      ]
     },
     "metadata": {},
     "output_type": "display_data"
    },
    {
     "data": {
      "text/plain": [
       "0       None\n",
       "1       None\n",
       "2       None\n",
       "3       None\n",
       "4       None\n",
       "        ... \n",
       "1409    None\n",
       "1410    None\n",
       "1411    None\n",
       "1412    None\n",
       "1413    None\n",
       "Length: 1414, dtype: object"
      ]
     },
     "execution_count": 179,
     "metadata": {},
     "output_type": "execute_result"
    }
   ],
   "source": [
    "df_split[['index', 'id', 'chunk_num', 'chunk_text']].swifter.apply(write_chunk, axis=1)"
   ]
  }
 ],
 "metadata": {
  "kernelspec": {
   "display_name": "Python 3.10.6 ('bdproj310')",
   "language": "python",
   "name": "python3"
  },
  "language_info": {
   "codemirror_mode": {
    "name": "ipython",
    "version": 3
   },
   "file_extension": ".py",
   "mimetype": "text/x-python",
   "name": "python",
   "nbconvert_exporter": "python",
   "pygments_lexer": "ipython3",
   "version": "3.10.6"
  },
  "orig_nbformat": 4,
  "vscode": {
   "interpreter": {
    "hash": "5e0ae4837df7a7ea9078b7c2474737fb90767256bed16c5310b44bf5f06e513c"
   }
  }
 },
 "nbformat": 4,
 "nbformat_minor": 2
}
